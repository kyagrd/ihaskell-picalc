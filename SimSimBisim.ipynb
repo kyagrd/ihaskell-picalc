{
 "cells": [
  {
   "cell_type": "markdown",
   "metadata": {},
   "source": [
    "This notebook is modified from the unbond-generics example on hackage and it repo.\n",
    "\n",
    "If you have not run `./install.sh` alreay on Jupyter terminal, and running it here for the first time,\n",
    "`./install.sh` will install dependencies specified in the script into the LTS snapshot directory.\n",
    "However, on the very first run, it will fail to import modules becuase the running kernel would still be oblivious to the newly installed pakcages.\n",
    "In such case, you should restart the kernel. Once the kernel is restarted, the `./install.sh` won't do anyting because everything is to date and the newly loaded kernel should be able to see the newly installed package modules."
   ]
  },
  {
   "cell_type": "code",
   "execution_count": 1,
   "metadata": {},
   "outputs": [
    {
     "data": {
      "text/plain": []
     },
     "metadata": {},
     "output_type": "display_data"
    }
   ],
   "source": [
    ":!./install.sh"
   ]
  },
  {
   "cell_type": "markdown",
   "metadata": {},
   "source": [
    "# Similar vs. Bisimilar\n",
    "\n",
    "Both are concepts that are used for comparing one labeled transision system (LTS) to another.\n",
    "This notebook demonstrate a well known example that contrasts the two concepts using Haskell.\n",
    "\n",
    "In a real-world conversation, when we say that ***A*** \"simulates\" ***B***,\n",
    "it often means that ***A*** can do most of the things that ***B*** can do but maybe not everything.\n",
    "For example, it is said that a virtual machine or an emulator software simulates some actual machine,\n",
    "menaing that it can mimic most of the actual machine but maybe not certain things such as hardware acelleration.\n",
    "\n",
    "However, in the context of formal system design, when we say that ***A*** *simulates* ***B***, it means that\n",
    "***A*** must be able to do exactly everything that ***B*** does, and maybe more. When ***B*** also simulates ***A***,\n",
    "then we say that ***A*** and ***B*** are *similar*. That is, when two systems mutually simulates each other\n",
    "then they are said to be similar."
   ]
  },
  {
   "cell_type": "markdown",
   "metadata": {},
   "source": [
    "## definition of LTS\n",
    "Let us consider simple LTSs of finite states\n",
    "defined by a start state and labeled edges, where the the labels represent observable actions.\n",
    "After an action, it transitions to a next state.\n",
    "They are pairs of start state and triples, where each triple represents a transtion.\n",
    "A transitoin is defined by its current state, label, and next state.\n",
    "\n",
    "We define two LTSs, `systemP` and `systemQ`, in Haskell as below.\n",
    "Note that we allow some non-determinisim here so that there can be multiple possible next states for the same observable action.\n",
    "For instance, from the start state `0` of `systemP`, it can transit to either state `2` or `3` after the action labeled by `\"a\"`."
   ]
  },
  {
   "cell_type": "code",
   "execution_count": 2,
   "metadata": {},
   "outputs": [],
   "source": [
    "systemP = ( 0, [(0,\"a\",1), (0,\"a\",2), (1,\"b\",3), (2,\"c\",4)] ) -- (startState, edges)\n",
    "systemQ = ( 0, [(0,\"a\",1), (1,\"b\",3), (1,\"c\",4)] )            -- (startState, edges)"
   ]
  },
  {
   "cell_type": "markdown",
   "metadata": {},
   "source": [
    "We also render these sytems using graphviz DOT format via [Gravizo](http://www.gravizo.com/) for more intuitive visualization.\n",
    "To make a clear comparision between the systems, a prefix letter is attached (e.g., p2 for state `2` of `systemP` and q2 for state `2` of `systemQ`) when displaying a system as a directed graph."
   ]
  },
  {
   "cell_type": "code",
   "execution_count": 3,
   "metadata": {},
   "outputs": [],
   "source": [
    "import IHaskell.Display\n",
    "\n",
    "displayLTS prefix (s,es) = html $ displayLTSsrc prefix (s,es)\n",
    "displayLTSsrc prefix (s,es) = gravizo $ digraphDOT prefix (s,es)\n",
    "gravizo digraphSrc = \"<img src='https://g.gravizo.com/svg?\"++digraphSrc++\"'/>\"\n",
    "digraphDOT prefix (s,es) = \"digraph G { \"\n",
    "  ++ concat [ state p++\" -> \"++state q++\" [label=\"++show a++\"]; \" | (p,a,q)<-es]\n",
    "  ++ \"start -> \"++state s++\"; \"\n",
    "  ++ \"start [shape=none]; \"\n",
    "  ++ \"rankdir = TB; {rank = same; start; \"++state s++\";} \"\n",
    "  ++\"}\"\n",
    "  where state = (prefix++) . show"
   ]
  },
  {
   "cell_type": "code",
   "execution_count": 4,
   "metadata": {},
   "outputs": [
    {
     "data": {
      "text/html": [
       "<style>/* Styles used for the Hoogle display in the pager */\n",
       ".hoogle-doc {\n",
       "display: block;\n",
       "padding-bottom: 1.3em;\n",
       "padding-left: 0.4em;\n",
       "}\n",
       ".hoogle-code {\n",
       "display: block;\n",
       "font-family: monospace;\n",
       "white-space: pre;\n",
       "}\n",
       ".hoogle-text {\n",
       "display: block;\n",
       "}\n",
       ".hoogle-name {\n",
       "color: green;\n",
       "font-weight: bold;\n",
       "}\n",
       ".hoogle-head {\n",
       "font-weight: bold;\n",
       "}\n",
       ".hoogle-sub {\n",
       "display: block;\n",
       "margin-left: 0.4em;\n",
       "}\n",
       ".hoogle-package {\n",
       "font-weight: bold;\n",
       "font-style: italic;\n",
       "}\n",
       ".hoogle-module {\n",
       "font-weight: bold;\n",
       "}\n",
       ".hoogle-class {\n",
       "font-weight: bold;\n",
       "}\n",
       ".get-type {\n",
       "color: green;\n",
       "font-weight: bold;\n",
       "font-family: monospace;\n",
       "display: block;\n",
       "white-space: pre-wrap;\n",
       "}\n",
       ".show-type {\n",
       "color: green;\n",
       "font-weight: bold;\n",
       "font-family: monospace;\n",
       "margin-left: 1em;\n",
       "}\n",
       ".mono {\n",
       "font-family: monospace;\n",
       "display: block;\n",
       "}\n",
       ".err-msg {\n",
       "color: red;\n",
       "font-style: italic;\n",
       "font-family: monospace;\n",
       "white-space: pre;\n",
       "display: block;\n",
       "}\n",
       "#unshowable {\n",
       "color: red;\n",
       "font-weight: bold;\n",
       "}\n",
       ".err-msg.in.collapse {\n",
       "padding-top: 0.7em;\n",
       "}\n",
       ".highlight-code {\n",
       "white-space: pre;\n",
       "font-family: monospace;\n",
       "}\n",
       ".suggestion-warning { \n",
       "font-weight: bold;\n",
       "color: rgb(200, 130, 0);\n",
       "}\n",
       ".suggestion-error { \n",
       "font-weight: bold;\n",
       "color: red;\n",
       "}\n",
       ".suggestion-name {\n",
       "font-weight: bold;\n",
       "}\n",
       "</style><img src='https://g.gravizo.com/svg?digraph G { p0 -> p1 [label=\"a\"]; p0 -> p2 [label=\"a\"]; p1 -> p3 [label=\"b\"]; p2 -> p4 [label=\"c\"]; start -> p0; start [shape=none]; rankdir = TB; {rank = same; start; p0;} }'/>"
      ]
     },
     "metadata": {},
     "output_type": "display_data"
    }
   ],
   "source": [
    "displayLTS \"p\" systemP"
   ]
  },
  {
   "cell_type": "code",
   "execution_count": 5,
   "metadata": {},
   "outputs": [
    {
     "data": {
      "text/html": [
       "<style>/* Styles used for the Hoogle display in the pager */\n",
       ".hoogle-doc {\n",
       "display: block;\n",
       "padding-bottom: 1.3em;\n",
       "padding-left: 0.4em;\n",
       "}\n",
       ".hoogle-code {\n",
       "display: block;\n",
       "font-family: monospace;\n",
       "white-space: pre;\n",
       "}\n",
       ".hoogle-text {\n",
       "display: block;\n",
       "}\n",
       ".hoogle-name {\n",
       "color: green;\n",
       "font-weight: bold;\n",
       "}\n",
       ".hoogle-head {\n",
       "font-weight: bold;\n",
       "}\n",
       ".hoogle-sub {\n",
       "display: block;\n",
       "margin-left: 0.4em;\n",
       "}\n",
       ".hoogle-package {\n",
       "font-weight: bold;\n",
       "font-style: italic;\n",
       "}\n",
       ".hoogle-module {\n",
       "font-weight: bold;\n",
       "}\n",
       ".hoogle-class {\n",
       "font-weight: bold;\n",
       "}\n",
       ".get-type {\n",
       "color: green;\n",
       "font-weight: bold;\n",
       "font-family: monospace;\n",
       "display: block;\n",
       "white-space: pre-wrap;\n",
       "}\n",
       ".show-type {\n",
       "color: green;\n",
       "font-weight: bold;\n",
       "font-family: monospace;\n",
       "margin-left: 1em;\n",
       "}\n",
       ".mono {\n",
       "font-family: monospace;\n",
       "display: block;\n",
       "}\n",
       ".err-msg {\n",
       "color: red;\n",
       "font-style: italic;\n",
       "font-family: monospace;\n",
       "white-space: pre;\n",
       "display: block;\n",
       "}\n",
       "#unshowable {\n",
       "color: red;\n",
       "font-weight: bold;\n",
       "}\n",
       ".err-msg.in.collapse {\n",
       "padding-top: 0.7em;\n",
       "}\n",
       ".highlight-code {\n",
       "white-space: pre;\n",
       "font-family: monospace;\n",
       "}\n",
       ".suggestion-warning { \n",
       "font-weight: bold;\n",
       "color: rgb(200, 130, 0);\n",
       "}\n",
       ".suggestion-error { \n",
       "font-weight: bold;\n",
       "color: red;\n",
       "}\n",
       ".suggestion-name {\n",
       "font-weight: bold;\n",
       "}\n",
       "</style><img src='https://g.gravizo.com/svg?digraph G { q0 -> q1 [label=\"a\"]; q1 -> q3 [label=\"b\"]; q1 -> q4 [label=\"c\"]; start -> q0; start [shape=none]; rankdir = TB; {rank = same; start; q0;} }'/>"
      ]
     },
     "metadata": {},
     "output_type": "display_data"
    }
   ],
   "source": [
    "displayLTS \"q\" systemQ"
   ]
  },
  {
   "cell_type": "markdown",
   "metadata": {},
   "source": [
    "## definition of simulation\n",
    "Let $\\mathcal{R}$ be a binary relation that relates the states of the two labeled transition systems,\n",
    "system $Q$ starting from $q_0$ and system $P$ starting from $p_0$.\n",
    "\n",
    "We say that $Q$ simulates $P$ when the relation $\\mathcal{R}$ satisfiing the following two conditions can be defined.\n",
    " * $p_0 \\mathcal{R}\\,q_0$\n",
    " * $\\forall a, \\forall p_i,~ p \\xrightarrow{~a~} p_i, ~ \\exists q_j,~ q \\xrightarrow{~a~} q_j\\;$ such that $\\;p_i\\mathcal{R}\\,q_j$\n",
    "\n",
    "Such a relation $\\mathcal{R}$ is called a simulation relation.\n",
    "We also say that $q_j$ simulates $p_i$ for specific pair of states when $p_i\\mathcal{R}\\,q_j$.\n",
    "Because this relation is a preorder, notations such as $p_i \\preceq q_j$ is often used for the simulation relation.\n",
    "\n",
    "Instead of directly building the reation $\\mathcal{R}$ as a collection of tuples,\n",
    "we implement it in Haskell as a binary function (`sim`) with a boolean result,\n",
    "which corresponds to testing membership (i.e., $(q_j,p_i)\\in\\mathcal{R}$), as follows."
   ]
  },
  {
   "cell_type": "code",
   "execution_count": 6,
   "metadata": {},
   "outputs": [],
   "source": [
    "-- test whether  sysP starting from p0   simulates  sysQ starting from q0\n",
    "simulates sysQ@(q0,esQ) sysP@(p0,esP) = sim p0 q0\n",
    "  where\n",
    "  sim p q = and [or [sim q1 p1 | (q',b,q1) <- esQ, q==q', a==b] -- (or  ...) exists a mathcing step from q\n",
    "                               | (p',a,p1) <- esP, p==p']       -- (and ...) for each step starting from p"
   ]
  },
  {
   "cell_type": "markdown",
   "metadata": {},
   "source": [
    "`similar` is defined as mutual simulation."
   ]
  },
  {
   "cell_type": "code",
   "execution_count": 7,
   "metadata": {},
   "outputs": [],
   "source": [
    "similar sysP sysQ = simulates sysP sysQ && simulates sysQ sysP"
   ]
  },
  {
   "cell_type": "markdown",
   "metadata": {},
   "source": [
    "`systemQ` simulates `systemP` but not the other way around."
   ]
  },
  {
   "cell_type": "code",
   "execution_count": 8,
   "metadata": {},
   "outputs": [
    {
     "data": {
      "text/plain": [
       "True"
      ]
     },
     "metadata": {},
     "output_type": "display_data"
    },
    {
     "data": {
      "text/plain": [
       "False"
      ]
     },
     "metadata": {},
     "output_type": "display_data"
    },
    {
     "data": {
      "text/plain": [
       "False"
      ]
     },
     "metadata": {},
     "output_type": "display_data"
    }
   ],
   "source": [
    "systemP `simulates` systemQ\n",
    "systemQ `simulates` systemP\n",
    "systemP `similar` systemQ"
   ]
  },
  {
   "cell_type": "markdown",
   "metadata": {},
   "source": [
    "This is because the state $q_1$ in `systemQ` can do anything $p_1$ can do and also do anything $p_2$ can do in `systemP`.\n",
    "\n",
    "However, neither the state $p_1$ nor the state $p_2$ in `systemP` can do everything $q_1$ does in `systemQ`.\n",
    "Observe that $p_1$ cannot follow the step with label $c$ and that $p_2$ cannot follow the step with label $b$."
   ]
  },
  {
   "cell_type": "markdown",
   "metadata": {},
   "source": [
    "## mutual simulation\n",
    "Add one more transition $p_2 \\xrightarrow{~b~} p_3$ to `systemP`, and let us call it `systemP'`."
   ]
  },
  {
   "cell_type": "code",
   "execution_count": 9,
   "metadata": {},
   "outputs": [
    {
     "data": {
      "text/html": [
       "<style>/* Styles used for the Hoogle display in the pager */\n",
       ".hoogle-doc {\n",
       "display: block;\n",
       "padding-bottom: 1.3em;\n",
       "padding-left: 0.4em;\n",
       "}\n",
       ".hoogle-code {\n",
       "display: block;\n",
       "font-family: monospace;\n",
       "white-space: pre;\n",
       "}\n",
       ".hoogle-text {\n",
       "display: block;\n",
       "}\n",
       ".hoogle-name {\n",
       "color: green;\n",
       "font-weight: bold;\n",
       "}\n",
       ".hoogle-head {\n",
       "font-weight: bold;\n",
       "}\n",
       ".hoogle-sub {\n",
       "display: block;\n",
       "margin-left: 0.4em;\n",
       "}\n",
       ".hoogle-package {\n",
       "font-weight: bold;\n",
       "font-style: italic;\n",
       "}\n",
       ".hoogle-module {\n",
       "font-weight: bold;\n",
       "}\n",
       ".hoogle-class {\n",
       "font-weight: bold;\n",
       "}\n",
       ".get-type {\n",
       "color: green;\n",
       "font-weight: bold;\n",
       "font-family: monospace;\n",
       "display: block;\n",
       "white-space: pre-wrap;\n",
       "}\n",
       ".show-type {\n",
       "color: green;\n",
       "font-weight: bold;\n",
       "font-family: monospace;\n",
       "margin-left: 1em;\n",
       "}\n",
       ".mono {\n",
       "font-family: monospace;\n",
       "display: block;\n",
       "}\n",
       ".err-msg {\n",
       "color: red;\n",
       "font-style: italic;\n",
       "font-family: monospace;\n",
       "white-space: pre;\n",
       "display: block;\n",
       "}\n",
       "#unshowable {\n",
       "color: red;\n",
       "font-weight: bold;\n",
       "}\n",
       ".err-msg.in.collapse {\n",
       "padding-top: 0.7em;\n",
       "}\n",
       ".highlight-code {\n",
       "white-space: pre;\n",
       "font-family: monospace;\n",
       "}\n",
       ".suggestion-warning { \n",
       "font-weight: bold;\n",
       "color: rgb(200, 130, 0);\n",
       "}\n",
       ".suggestion-error { \n",
       "font-weight: bold;\n",
       "color: red;\n",
       "}\n",
       ".suggestion-name {\n",
       "font-weight: bold;\n",
       "}\n",
       "</style><img src='https://g.gravizo.com/svg?digraph G { p0 -> p1 [label=\"a\"]; p0 -> p2 [label=\"a\"]; p1 -> p3 [label=\"b\"]; p2 -> p3 [label=\"b\"]; p2 -> p4 [label=\"c\"]; start -> p0; start [shape=none]; rankdir = TB; {rank = same; start; p0;} }'/>"
      ]
     },
     "metadata": {},
     "output_type": "display_data"
    }
   ],
   "source": [
    "systemP' = (0, [(0,\"a\",1), (0,\"a\",2), (1,\"b\",3), (2,\"b\",3), (2,\"c\",4)]) -- (startState, edges)\n",
    "\n",
    "displayLTS \"p\" systemP'"
   ]
  },
  {
   "cell_type": "markdown",
   "metadata": {},
   "source": [
    "Observe that `systemP'` and `systemQ` are similar. That is, `systemP'` can also simulate `systemQ` as well as being simulated by `systemQ`."
   ]
  },
  {
   "cell_type": "code",
   "execution_count": 10,
   "metadata": {},
   "outputs": [
    {
     "data": {
      "text/plain": [
       "True"
      ]
     },
     "metadata": {},
     "output_type": "display_data"
    },
    {
     "data": {
      "text/plain": [
       "False"
      ]
     },
     "metadata": {},
     "output_type": "display_data"
    },
    {
     "data": {
      "text/plain": [
       "False"
      ]
     },
     "metadata": {},
     "output_type": "display_data"
    }
   ],
   "source": [
    "systemP' `simulates` systemQ\n",
    "systemQ  `simulates` systemP'\n",
    "systemP' `similar` systemQ"
   ]
  },
  {
   "cell_type": "markdown",
   "metadata": {},
   "source": [
    "## definition of bisimulation\n",
    "Let $\\mathcal{R}$ be a binary relation that relates the states of the two labeled transition systems,\n",
    "system $P$ starting from $p_0$ and system $Q$ starting from $q_0$.\n",
    "\n",
    "We say that $P$ bisimulates $Q$, or $P$ and $Q$ are bisimilar, when the relation $\\mathcal{R}$ satisfiing the following three conditions can be defined.\n",
    " * $p_0 \\mathcal{R}\\,q_0$\n",
    " * $\\forall a, \\forall p_i,~ p \\xrightarrow{~a~} p_i, ~ \\exists q_j,~ q \\xrightarrow{~a~} q_j\\;$ such that $\\;p_i\\mathcal{R}\\,q_j$\n",
    " * $\\forall a, \\forall q_j,~ q \\xrightarrow{~a~} q_j, ~ \\exists p_i,~ p \\xrightarrow{~a~} p_i\\;$ such that $\\;p_i\\mathcal{R}\\,q_j$ \n",
    "\n",
    "Such a relation $\\mathcal{R}$ is called a bisimulation relation.\n",
    "We also say that $p_i$ and $p_j$ are bisimilar for specific pair of states when $p_i\\mathcal{R}\\,q_j$.\n",
    "Because this relation is an equivalence, the notation $p_i \\sim q_j$ is often used for the simulation relation.\n",
    "\n",
    "Instead of directly building the reation $\\mathcal{R}$ as a collection of tuples,\n",
    "we implement it in Haskell as a binary function (`bisim`) with a boolean result,\n",
    "which corresponds to testing membership (i.e., $(p_i,q_j)\\in\\mathcal{R}$), as follows."
   ]
  },
  {
   "cell_type": "code",
   "execution_count": 11,
   "metadata": {},
   "outputs": [],
   "source": [
    "-- test whether  sysP starting from p0   is bisimilar to  sysQ starting from q0\n",
    "bisimilar sysP@(p0,esP) sysQ@(q0,esQ) = bisim p0 q0\n",
    "  where\n",
    "  bisim p q = and [or [bisim p1 q1 | (q',b,q1) <- esQ, q==q', a==b]\n",
    "                                   | (p',a,p1) <- esP, p==p']\n",
    "           && and [or [bisim p1 q1 | (p',a,p1) <- esQ, p==p', b==a]\n",
    "                                   | (q',b,q1) <- esP, q==q']"
   ]
  },
  {
   "cell_type": "code",
   "execution_count": 12,
   "metadata": {},
   "outputs": [
    {
     "data": {
      "text/plain": [
       "False"
      ]
     },
     "metadata": {},
     "output_type": "display_data"
    },
    {
     "data": {
      "text/plain": [
       "False"
      ]
     },
     "metadata": {},
     "output_type": "display_data"
    }
   ],
   "source": [
    "similar    systemP  systemQ\n",
    "bisimilar  systemP  systemQ -- obviously false, was not even simialr"
   ]
  },
  {
   "cell_type": "code",
   "execution_count": 13,
   "metadata": {},
   "outputs": [
    {
     "data": {
      "text/plain": [
       "False"
      ]
     },
     "metadata": {},
     "output_type": "display_data"
    },
    {
     "data": {
      "text/plain": [
       "False"
      ]
     },
     "metadata": {},
     "output_type": "display_data"
    }
   ],
   "source": [
    "similar    systemP' systemQ\n",
    "bisimilar  systemP' systemQ -- oh! similar but not bisimilar ?!?!"
   ]
  },
  {
   "cell_type": "markdown",
   "metadata": {},
   "source": [
    "### so, what happned?"
   ]
  },
  {
   "cell_type": "markdown",
   "metadata": {},
   "source": [
    "Here is where bisimulation fails.\n",
    " 1. Let `systemP'` take the first leading step $p_0 \\xrightarrow{~a~} p_1$.\n",
    "      - Then, there is no othre choice for `systemQ` than following by $q_0 \\xrightarrow{~a~} q_1$.\n",
    " 1. This time, let `systemQ` take the second leading step $q_1 \\xrightarrow{~c~} q_4$. \n",
    "      - Then, `systemP` **cannot** follow this step because there is no transition with label $c$ from $p_1$.\n",
    "      \n",
    "When testing similarity with the function `similar`, above bisimulation steps are not considered because the roles of leader and follower are fixed in each of the two simulation tests. One system takes the leading role and the other takes the following role throughut a simulation test. In contrast, both roles are considered for both systems in every step of the bisimulation. This is why bisimulation is a stronger (or, more fine-grained) notion of equivalence than mutual simulation."
   ]
  },
  {
   "cell_type": "code",
   "execution_count": null,
   "metadata": {},
   "outputs": [],
   "source": []
  }
 ],
 "metadata": {
  "kernelspec": {
   "display_name": "Haskell",
   "language": "haskell",
   "name": "haskell"
  },
  "language_info": {
   "codemirror_mode": "ihaskell",
   "file_extension": ".hs",
   "name": "haskell",
   "pygments_lexer": "Haskell",
   "version": "8.6.5"
  }
 },
 "nbformat": 4,
 "nbformat_minor": 2
}
