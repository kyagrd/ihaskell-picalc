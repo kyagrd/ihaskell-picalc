{
 "cells": [
  {
   "cell_type": "code",
   "execution_count": 1,
   "metadata": {},
   "outputs": [
    {
     "data": {
      "text/plain": []
     },
     "metadata": {},
     "output_type": "display_data"
    }
   ],
   "source": [
    ":!./install.sh"
   ]
  },
  {
   "cell_type": "markdown",
   "metadata": {},
   "source": [
    "## module PiCalc"
   ]
  },
  {
   "cell_type": "code",
   "execution_count": 2,
   "metadata": {},
   "outputs": [],
   "source": [
    "{-# LANGUAGE FlexibleContexts          #-}\n",
    "{-# LANGUAGE FlexibleInstances         #-}\n",
    "{-# LANGUAGE MultiParamTypeClasses     #-}\n",
    "{-# LANGUAGE NoMonomorphismRestriction #-}\n",
    "{-# LANGUAGE ScopedTypeVariables       #-}\n",
    "{-# LANGUAGE DeriveGeneric             #-}\n",
    "{-# LANGUAGE UndecidableInstances      #-}\n",
    "\n",
    "module PiCalc where\n",
    "import GHC.Generics (Generic)\n",
    "import Data.Maybe\n",
    "import Data.List\n",
    "import Unbound.Generics.LocallyNameless\n",
    "\n",
    "type Nm = Name Tm\n",
    "newtype Tm = Var Nm deriving (Eq, Ord, Show, Generic)\n",
    "\n",
    "data Pr  = Null | TauP Pr | Out Tm Tm Pr | In Tm PrB | Match Tm Tm Pr\n",
    "         | Plus Pr Pr | Par Pr Pr | Nu PrB  deriving (Eq, Ord, Show, Generic)\n",
    "type PrB = Bind Nm Pr\n",
    "instance Eq PrB where (==) = aeq\n",
    "instance Ord PrB where compare = acompare\n",
    "\n",
    "data Act   = Up Tm Tm  | Tau     deriving (Eq, Ord, Show, Generic)\n",
    "data ActB  = UpB Tm    | DnB Tm  deriving (Eq, Ord, Show, Generic)\n",
    "\n",
    "data Form  = FF | TT | Conj [Form] | Disj [Form]\n",
    "           | Dia  Act Form  |  DiaB  ActB FormB   | DiaMatch [(Tm,Tm)] Form\n",
    "           | Box  Act Form  |  BoxB  ActB FormB   | BoxMatch [(Tm,Tm)] Form\n",
    "           deriving (Eq, Ord, Show, Generic)\n",
    "type FormB = Bind Nm Form\n",
    "instance Eq FormB where (==) = aeq\n",
    "instance Ord FormB where compare = acompare\n",
    "\n",
    "instance Alpha Tm; instance Alpha Act; instance Alpha ActB\n",
    "instance Alpha Pr; instance Alpha Form\n",
    "\n",
    "instance Subst Tm Tm where isvar (Var x) = Just (SubstName x)\n",
    "instance Subst Tm Act;  instance Subst Tm ActB\n",
    "instance Subst Tm Pr;  instance Subst Tm Form\n",
    "\n",
    "infixr 1 .\\\n",
    "(.\\) = bind\n",
    "\n",
    "x .= y = Match (Var x) (Var y)\n",
    "inp = In . Var\n",
    "out x y = Out(Var x)(Var y)\n",
    "tau = TauP Null\n",
    "tautau = TauP (TauP Null)\n",
    "\n",
    "conj  = cn . filter(/=TT) where cn  [] = TT; cn  [f] = f; cn  fs = Conj fs\n",
    "disj  = ds . filter(/=FF) where ds  [] = FF; ds  [f] = f; ds  fs = Disj fs\n",
    "\n",
    "unbind2' b1 b2 = do  Just (x,p1,_,p2) <- unbind2 b1 b2\n",
    "                     return (x,p1,p2)\n",
    "(.+)  = Plus  ;   infixl 6 .+\n",
    "(.|)  = Par   ;  infixl 5 .|\n",
    "o = Null\n",
    "taup = TauP\n",
    "nu = Nu\n",
    "\n",
    "\n",
    "{- To port these, may need DeriveDataTypeable\n",
    "------------------------------------------------------------------\n",
    "-- transformation/reduction of processes via generic programming\n",
    "------------------------------------------------------------------\n",
    "removeNull :: Rep a => a -> a\n",
    "removeNull a = case cast a of\n",
    "  Just(Plus Null x) -> fromJust(cast x)\n",
    "  Just(Plus x Null) -> fromJust(cast x)\n",
    "  Just(Par Null x) -> fromJust(cast x)\n",
    "  Just(Par x Null) -> fromJust(cast x)\n",
    "  _ -> a\n",
    "-- rotate right for associative operators Plus and Par\n",
    "rotateRight :: Rep a => a -> a\n",
    "rotateRight a = case cast a of\n",
    "  Just(Plus (Plus x y) z) -> fromJust . cast $ Plus x (Plus y z)\n",
    "  Just(Par (Par x y) z) -> fromJust . cast $ Par x (Par y z)\n",
    "  _ -> a\n",
    "-- nub/sort for commutative operators Plus and Par\n",
    "nubSortComm :: Rep a => a -> a\n",
    "nubSortComm a = case cast a of\n",
    "  Just p@(Plus _ _) -> fromJust . cast . foldr1 Plus . nubSort $\n",
    "    unfoldr (\\q -> case q of { Plus x y -> Just(x,y) ; _ -> Nothing }) p\n",
    "  Just p@(Par _ _) -> fromJust . cast . foldr1 Par . nubSort $\n",
    "    unfoldr (\\q -> case q of { Par x y -> Just(x,y) ; _ -> Nothing }) p\n",
    "  _ -> a\n",
    "simplify = everywhere nubSortComm\n",
    "         . everywhere rotateRight\n",
    "         . everywhere removeNull\n",
    "{-\n",
    "foldl1 Plus (replicate 3 $ foldl1 Par [Null,Null,Null])\n",
    "everywhere rotateRight $ foldl1 Plus (replicate 3 $ foldl1 Par [Null,Null,Null])\n",
    "red $ foldl1 Plus (replicate 3 $ foldl1 Par [Null,Null,Null])\n",
    "-}\n",
    "-}"
   ]
  },
  {
   "cell_type": "markdown",
   "metadata": {},
   "source": [
    "## module MemoUgly"
   ]
  },
  {
   "cell_type": "code",
   "execution_count": 3,
   "metadata": {},
   "outputs": [
    {
     "data": {
      "text/html": [
       "<style>/* Styles used for the Hoogle display in the pager */\n",
       ".hoogle-doc {\n",
       "display: block;\n",
       "padding-bottom: 1.3em;\n",
       "padding-left: 0.4em;\n",
       "}\n",
       ".hoogle-code {\n",
       "display: block;\n",
       "font-family: monospace;\n",
       "white-space: pre;\n",
       "}\n",
       ".hoogle-text {\n",
       "display: block;\n",
       "}\n",
       ".hoogle-name {\n",
       "color: green;\n",
       "font-weight: bold;\n",
       "}\n",
       ".hoogle-head {\n",
       "font-weight: bold;\n",
       "}\n",
       ".hoogle-sub {\n",
       "display: block;\n",
       "margin-left: 0.4em;\n",
       "}\n",
       ".hoogle-package {\n",
       "font-weight: bold;\n",
       "font-style: italic;\n",
       "}\n",
       ".hoogle-module {\n",
       "font-weight: bold;\n",
       "}\n",
       ".hoogle-class {\n",
       "font-weight: bold;\n",
       "}\n",
       ".get-type {\n",
       "color: green;\n",
       "font-weight: bold;\n",
       "font-family: monospace;\n",
       "display: block;\n",
       "white-space: pre-wrap;\n",
       "}\n",
       ".show-type {\n",
       "color: green;\n",
       "font-weight: bold;\n",
       "font-family: monospace;\n",
       "margin-left: 1em;\n",
       "}\n",
       ".mono {\n",
       "font-family: monospace;\n",
       "display: block;\n",
       "}\n",
       ".err-msg {\n",
       "color: red;\n",
       "font-style: italic;\n",
       "font-family: monospace;\n",
       "white-space: pre;\n",
       "display: block;\n",
       "}\n",
       "#unshowable {\n",
       "color: red;\n",
       "font-weight: bold;\n",
       "}\n",
       ".err-msg.in.collapse {\n",
       "padding-top: 0.7em;\n",
       "}\n",
       ".highlight-code {\n",
       "white-space: pre;\n",
       "font-family: monospace;\n",
       "}\n",
       ".suggestion-warning { \n",
       "font-weight: bold;\n",
       "color: rgb(200, 130, 0);\n",
       "}\n",
       ".suggestion-error { \n",
       "font-weight: bold;\n",
       "color: red;\n",
       "}\n",
       ".suggestion-name {\n",
       "font-weight: bold;\n",
       "}\n",
       "</style><div class=\"suggestion-name\" style=\"clear:both;\">Eta reduce</div><div class=\"suggestion-row\" style=\"float: left;\"><div class=\"suggestion-warning\">Found:</div><div class=\"highlight-code\" id=\"haskell\">memo f = Data.MemoUgly.memo f</div></div><div class=\"suggestion-row\" style=\"float: left;\"><div class=\"suggestion-warning\">Why Not:</div><div class=\"highlight-code\" id=\"haskell\">memo = Data.MemoUgly.memo</div></div><div class=\"suggestion-name\" style=\"clear:both;\">Eta reduce</div><div class=\"suggestion-row\" style=\"float: left;\"><div class=\"suggestion-warning\">Found:</div><div class=\"highlight-code\" id=\"haskell\">memoIO f = Data.MemoUgly.memoIO f</div></div><div class=\"suggestion-row\" style=\"float: left;\"><div class=\"suggestion-warning\">Why Not:</div><div class=\"highlight-code\" id=\"haskell\">memoIO = Data.MemoUgly.memoIO</div></div>"
      ],
      "text/plain": [
       "Line 7: Eta reduce\n",
       "Found:\n",
       "memo f = Data.MemoUgly.memo f\n",
       "Why not:\n",
       "memo = Data.MemoUgly.memoLine 8: Eta reduce\n",
       "Found:\n",
       "memoIO f = Data.MemoUgly.memoIO f\n",
       "Why not:\n",
       "memoIO = Data.MemoUgly.memoIO"
      ]
     },
     "metadata": {},
     "output_type": "display_data"
    }
   ],
   "source": [
    "module MemoUgly where\n",
    "import Control.Concurrent.MVar\n",
    "import qualified Data.Map as M\n",
    "import System.IO.Unsafe(unsafePerformIO)\n",
    "import qualified Data.MemoUgly\n",
    "\n",
    "memo f = Data.MemoUgly.memo f\n",
    "memoIO f = Data.MemoUgly.memoIO f\n",
    "\n",
    "memoFix ff = f where f = memo (ff f)"
   ]
  },
  {
   "cell_type": "code",
   "execution_count": 4,
   "metadata": {},
   "outputs": [],
   "source": [
    "{-# LANGUAGE FlexibleContexts          #-}\n",
    "{-# LANGUAGE FlexibleInstances         #-}\n",
    "{-# LANGUAGE MultiParamTypeClasses     #-}\n",
    "{-# LANGUAGE NoMonomorphismRestriction #-}\n",
    "{-# LANGUAGE ScopedTypeVariables       #-}\n",
    "{-# LANGUAGE UndecidableInstances      #-}\n",
    "\n",
    "module IdSubLTS where\n",
    "import           Control.Applicative\n",
    "import           Control.Monad\n",
    "import           Control.Monad.Fail\n",
    "import           PiCalc\n",
    "import           Unbound.Generics.LocallyNameless\n",
    "\n",
    "-- one :: (Fresh m, Alternative m, MonadFail m) => Pr -> m (Act, Pr)\n",
    "one (Out x y p)    = return (Up x y, p)\n",
    "one (TauP p)       = return (Tau, p)\n",
    "one (Match x y p)  | x == y = one p\n",
    "one (Plus p q) = one p <|> one q\n",
    "one (Par p q)\n",
    "  =    do  (l, p') <- one p;  return (l, Par p' q)\n",
    "  <|>  do  (l, q') <- one q;  return (l, Par p q')\n",
    "  <|>  do  (lp, bp) <- oneb p;  (lq, bq) <- oneb q\n",
    "           case (lp, lq) of  (UpB x,DnB x') | x == x'           -- close\n",
    "                                            -> do  (y, p', q') <- unbind2' bp bq\n",
    "                                                   return (Tau, Nu(y.\\Par p' q'))\n",
    "                             (DnB x',UpB x) | x' == x           -- close\n",
    "                                            -> do  (y, q', p') <- unbind2' bq bp\n",
    "                                                   return (Tau, Nu(y.\\Par p' q'))\n",
    "                             _              -> empty\n",
    "  <|>  do  (Up x v, p') <- one p;  (DnB x', (y,q')) <- oneb' q\n",
    "           guard $ x == x'\n",
    "           return (Tau, Par p' (subst y v q'))  -- interaction\n",
    "  <|>  do  (DnB x', (y,p')) <- oneb' p;  (Up x v, q') <- one q\n",
    "           guard $ x == x'\n",
    "           return (Tau, Par (subst y v p') q')  -- interaction\n",
    "one (Nu b)  = do  (x,p) <- unbind b\n",
    "                  (l,p') <- one p\n",
    "                  case l of  Up (Var x') (Var y)  | x == x'  -> empty\n",
    "                                                  | x == y   -> empty\n",
    "                             _                    -> return (l, Nu (x.\\p'))\n",
    "one _       = empty\n",
    "\n",
    "-- oneb :: (Fresh m, Alternative m, MonadFail m) => Pr -> m (ActB, PrB)\n",
    "oneb (In x p)      = return (DnB x, p)\n",
    "oneb (Match x y p) | x == y = oneb p\n",
    "oneb (Plus p q)  = oneb p <|> oneb q\n",
    "oneb (Par p q)   =     do  (l,(x,p')) <- oneb' p;  return (l, x.\\Par p' q)\n",
    "                 <|>   do  (l,(x,q')) <- oneb' q;  return (l, x.\\Par p q')\n",
    "oneb (Nu b)      =     do  (x,p) <- unbind b\n",
    "                           (l,(y,p')) <- oneb' p\n",
    "                           case l of  UpB (Var x')   | x == x' -> empty\n",
    "                                      DnB (Var x')   | x == x' -> empty\n",
    "                                      _              -> return (l, y.\\Nu (x.\\p'))\n",
    "                 <|>   do  (x,p) <- unbind b\n",
    "                           (Up y (Var x'),p') <- one p\n",
    "                           guard $ x == x' && Var x /= y\n",
    "                           return (UpB y, x.\\p')  -- open\n",
    "oneb _           = empty\n",
    "\n",
    "oneb' p = do (l,b) <- oneb p; r <- unbind b; return (l,r)\n",
    "\n",
    "{-\n",
    "% Finite pi-calculus specification in lambda-Prolog\n",
    "% A specification of the late transition system for the finite pi calculus.\n",
    "% bound input\n",
    "oneb (in X M) (dn X) M.\n",
    "% free output\n",
    "one (out X Y P) (up X Y) P.\n",
    "% tau\n",
    "one  (taup P) tau P.\n",
    "% match prefix\n",
    "one  (match X X P) A Q :- one  P A Q.\n",
    "oneb (match X X P) A M :- oneb P A M.\n",
    "% sum\n",
    "one  (plus P Q) A R :- one  P A R.\n",
    "one  (plus P Q) A R :- one  Q A R.\n",
    "oneb (plus P Q) A M :- oneb P A M.\n",
    "oneb (plus P Q) A M :- oneb Q A M.\n",
    "% par\n",
    "one  (par P Q) A (par P1 Q) :- one P A P1.\n",
    "one  (par P Q) A (par P Q1) :- one Q A Q1.\n",
    "oneb (par P Q) A (x\\par (M x) Q) :- oneb P A M.\n",
    "oneb (par P Q) A (x\\par P (N x)) :- oneb Q A N.\n",
    "% restriction\n",
    "one  (nu x\\P x) A (nu x\\Q x)      :- pi x\\ one  (P x) A (Q x).\n",
    "oneb (nu x\\P x) A (y\\ nu x\\Q x y) :- pi x\\ oneb (P x) A (y\\ Q x y).\n",
    "% open\n",
    "oneb (nu x\\M x) (up X) N :- pi y\\ one (M y) (up X y) (N y).\n",
    "% close\n",
    "one (par P Q) tau (nu y\\ par (M y) (N y)) :- oneb P (dn X) M , oneb Q (up X) N.\n",
    "one (par P Q) tau (nu y\\ par (M y) (N y)) :- oneb P (up X) M , oneb Q (dn X) N.\n",
    "% comm\n",
    "one (par P Q) tau (par (M Y) T) :-  oneb P (dn X) M, one Q (up X Y) T.\n",
    "one (par P Q) tau (par R (M Y)) :-  oneb Q (dn X) M, one P (up X Y) R.\n",
    "-}\n"
   ]
  },
  {
   "cell_type": "markdown",
   "metadata": {},
   "source": [
    "## module OpenLTS"
   ]
  },
  {
   "cell_type": "code",
   "execution_count": 5,
   "metadata": {},
   "outputs": [
    {
     "data": {
      "text/html": [
       "<style>/* Styles used for the Hoogle display in the pager */\n",
       ".hoogle-doc {\n",
       "display: block;\n",
       "padding-bottom: 1.3em;\n",
       "padding-left: 0.4em;\n",
       "}\n",
       ".hoogle-code {\n",
       "display: block;\n",
       "font-family: monospace;\n",
       "white-space: pre;\n",
       "}\n",
       ".hoogle-text {\n",
       "display: block;\n",
       "}\n",
       ".hoogle-name {\n",
       "color: green;\n",
       "font-weight: bold;\n",
       "}\n",
       ".hoogle-head {\n",
       "font-weight: bold;\n",
       "}\n",
       ".hoogle-sub {\n",
       "display: block;\n",
       "margin-left: 0.4em;\n",
       "}\n",
       ".hoogle-package {\n",
       "font-weight: bold;\n",
       "font-style: italic;\n",
       "}\n",
       ".hoogle-module {\n",
       "font-weight: bold;\n",
       "}\n",
       ".hoogle-class {\n",
       "font-weight: bold;\n",
       "}\n",
       ".get-type {\n",
       "color: green;\n",
       "font-weight: bold;\n",
       "font-family: monospace;\n",
       "display: block;\n",
       "white-space: pre-wrap;\n",
       "}\n",
       ".show-type {\n",
       "color: green;\n",
       "font-weight: bold;\n",
       "font-family: monospace;\n",
       "margin-left: 1em;\n",
       "}\n",
       ".mono {\n",
       "font-family: monospace;\n",
       "display: block;\n",
       "}\n",
       ".err-msg {\n",
       "color: red;\n",
       "font-style: italic;\n",
       "font-family: monospace;\n",
       "white-space: pre;\n",
       "display: block;\n",
       "}\n",
       "#unshowable {\n",
       "color: red;\n",
       "font-weight: bold;\n",
       "}\n",
       ".err-msg.in.collapse {\n",
       "padding-top: 0.7em;\n",
       "}\n",
       ".highlight-code {\n",
       "white-space: pre;\n",
       "font-family: monospace;\n",
       "}\n",
       ".suggestion-warning { \n",
       "font-weight: bold;\n",
       "color: rgb(200, 130, 0);\n",
       "}\n",
       ".suggestion-error { \n",
       "font-weight: bold;\n",
       "color: red;\n",
       "}\n",
       ".suggestion-name {\n",
       "font-weight: bold;\n",
       "}\n",
       "</style><div class=\"suggestion-name\" style=\"clear:both;\">Reduce duplication</div><div class=\"suggestion-row\" style=\"float: left;\"><div class=\"suggestion-warning\">Found:</div><div class=\"highlight-code\" id=\"haskell\">revns = reverse (fv nctx)\n",
       "n2iMap = fromList $ zip revns [0 .. maxVal]\n",
       "maxVal = length nctx - 1\n",
       "</div></div><div class=\"suggestion-row\" style=\"float: left;\"><div class=\"suggestion-warning\">Why Not:</div><div class=\"highlight-code\" id=\"haskell\">Combine with <unknown>.hs:101:5</div></div><div class=\"suggestion-name\" style=\"clear:both;\">Reduce duplication</div><div class=\"suggestion-row\" style=\"float: left;\"><div class=\"suggestion-warning\">Found:</div><div class=\"highlight-code\" id=\"haskell\">let sigma' = joinNm ctx (x, y) sigma\n",
       "guard $ sigma' `respects_` ctx\n",
       "return (sigma', r)\n",
       "</div></div><div class=\"suggestion-row\" style=\"float: left;\"><div class=\"suggestion-warning\">Why Not:</div><div class=\"highlight-code\" id=\"haskell\">Combine with <unknown>.hs:174:48</div></div><div class=\"suggestion-name\" style=\"clear:both;\">Reduce duplication</div><div class=\"suggestion-row\" style=\"float: left;\"><div class=\"suggestion-warning\">Found:</div><div class=\"highlight-code\" id=\"haskell\">let sigma' = joinNm ctx (x, x') (joinParts sigma_p sigma_q)\n",
       "guard $ sigma' `respects_` ctx\n",
       "return (sigma', (Tau, Nu (y .\\ Par p' q')))\n",
       "</div></div><div class=\"suggestion-row\" style=\"float: left;\"><div class=\"suggestion-warning\">Why Not:</div><div class=\"highlight-code\" id=\"haskell\">Combine with <unknown>.hs:148:47</div></div>"
      ],
      "text/plain": [
       "Line 63: Reduce duplication\n",
       "Found:\n",
       "revns = reverse (fv nctx)\n",
       "n2iMap = fromList $ zip revns [0 .. maxVal]\n",
       "maxVal = length nctx - 1\n",
       "\n",
       "Why not:\n",
       "Combine with <unknown>.hs:101:5Line 134: Reduce duplication\n",
       "Found:\n",
       "let sigma' = joinNm ctx (x, y) sigma\n",
       "guard $ sigma' `respects_` ctx\n",
       "return (sigma', r)\n",
       "\n",
       "Why not:\n",
       "Combine with <unknown>.hs:174:48Line 144: Reduce duplication\n",
       "Found:\n",
       "let sigma' = joinNm ctx (x, x') (joinParts sigma_p sigma_q)\n",
       "guard $ sigma' `respects_` ctx\n",
       "return (sigma', (Tau, Nu (y .\\ Par p' q')))\n",
       "\n",
       "Why not:\n",
       "Combine with <unknown>.hs:148:47"
      ]
     },
     "metadata": {},
     "output_type": "display_data"
    }
   ],
   "source": [
    "{-# LANGUAGE FlexibleContexts          #-}\n",
    "{-# LANGUAGE FlexibleInstances         #-}\n",
    "{-# LANGUAGE MultiParamTypeClasses     #-}\n",
    "{-# LANGUAGE NoMonomorphismRestriction #-}\n",
    "{-# LANGUAGE ScopedTypeVariables       #-}\n",
    "{-# LANGUAGE UndecidableInstances      #-}\n",
    "{-# LANGUAGE DeriveGeneric             #-}\n",
    "\n",
    "module OpenLTS where\n",
    "import           GHC.Generics (Generic)\n",
    "import           Control.Applicative\n",
    "import           Control.Lens.Fold\n",
    "import           Control.Monad\n",
    "import           Control.Monad.Fail\n",
    "import           Data.Map.Strict         (Map (..), fromList, insert, (!))\n",
    "import           Data.Partition          hiding (empty, rep)\n",
    "import qualified Data.Partition          as P\n",
    "import           PiCalc\n",
    "import           Unbound.Generics.LocallyNameless hiding (fv)\n",
    "import qualified Unbound.Generics.LocallyNameless as U\n",
    "{-# ANN module \"HLint: ignore Use mappend\" #-}\n",
    "{-# ANN module \"HLint: ignore Use camelCase\" #-}\n",
    "\n",
    "fv = toListOf U.fv\n",
    "\n",
    "type EqC = [(Nm,Nm)]\n",
    "{-\n",
    "infixr 5 .:\n",
    "(.:) :: (Nm,Nm) -> EqC -> EqC\n",
    "(x,y) .: sigma = case compare x y of  LT -> [(x,y)] .++ sigma\n",
    "                                      EQ -> sigma\n",
    "                                      GT -> [(y,x)] .++ sigma\n",
    "infixr 5 .++\n",
    "(.++) = union\n",
    "-}\n",
    "\n",
    "type Ctx = [Quan]\n",
    "data Quan = All Nm | Nab Nm deriving (Eq, Ord, Show, Generic)\n",
    "quan2nm :: Quan -> Nm\n",
    "quan2nm (All x) = x\n",
    "quan2nm (Nab x) = x\n",
    "\n",
    "instance Alpha Quan\n",
    "instance Subst Tm Quan\n",
    "\n",
    "\n",
    "-- wrapper -------------------\n",
    "one nctx p = do (sigma, r) <- one_ ctx p\n",
    "                return (part2eqc ctx sigma, r)\n",
    "  where ctx = toCtx' nctx\n",
    "oneb nctx b = do (sigma, r) <- one_b ctx b\n",
    "                 return (part2eqc ctx sigma, r)\n",
    "  where ctx = toCtx' nctx\n",
    "-----------------------------\n",
    "\n",
    "type Ctx' = (Ctx, Int, Map Nm Int)\n",
    "emptyCtx' = ([], 0, fromList [])\n",
    "type EqC' = Partition Int\n",
    "\n",
    "toCtx' :: Ctx -> Ctx'\n",
    "toCtx' nctx = (nctx, maxVal, n2iMap)\n",
    "  where\n",
    "    revns = reverse (fv nctx)\n",
    "    n2iMap = fromList $ zip revns [0..maxVal]\n",
    "    maxVal = length nctx - 1\n",
    "\n",
    "extend :: Quan -> Ctx' -> Ctx'\n",
    "extend q (nctx, n, n2iMap) = (q:nctx, n+1, insert (quan2nm q) n n2iMap)\n",
    "\n",
    "respects :: EqC -> Ctx -> Bool\n",
    "respects sigma nctx = all (\\n -> P.rep part n == n) [n2i x | Nab x <- nctx]\n",
    "  where (part, (n2i, _)) = mkPartitionFromEqC nctx sigma\n",
    "\n",
    "respects' :: EqC -> Ctx' -> Bool\n",
    "respects' sigma ctx@(nctx,_,n2iMap) =\n",
    "  all (\\n -> P.rep part n == n) [n2i x | Nab x <- nctx]\n",
    "  where (part,(n2i,i2n)) = mkPartitionFromEqC' ctx sigma\n",
    "\n",
    "respects_ :: EqC' -> Ctx' -> Bool\n",
    "respects_ sigma ctx@(nctx,_,n2iMap) =\n",
    "  all (\\n -> P.rep sigma n == n) [n2i x | Nab x <- nctx]\n",
    "  where (n2i,i2n) = mkMapFunsFromEqC' ctx sigma\n",
    "\n",
    "subs :: Subst Tm b => Ctx -> EqC -> b -> b\n",
    "subs nctx sigma = substs [(x,Var y) | (x,y)<-sigma']\n",
    "  where  sigma' = [(i2n i, i2n $ P.rep part i) | i<-[0..maxVal]]\n",
    "         (part, (n2i, i2n)) = mkPartitionFromEqC nctx sigma\n",
    "         maxVal = length nctx - 1\n",
    "\n",
    "subs_ :: Subst Tm b => Ctx' -> EqC' -> b -> b\n",
    "subs_ ctx@(nctx,maxVal,n2iMap) sigma = substs [(x,Var y) | (x,y)<-sigma']\n",
    "  where  sigma' = [(i2n i, i2n $ P.rep sigma i) | i<-[0..maxVal]]\n",
    "         (n2i, i2n) = mkMapFunsFromEqC' ctx sigma\n",
    "\n",
    "mkPartitionFromEqC ::  Ctx -> EqC -> (Partition Int, (Nm -> Int, Int -> Nm))\n",
    "mkPartitionFromEqC nctx sigma = (part, (n2i, i2n))\n",
    "  where\n",
    "    part =  foldr (.) id [joinElems (n2i x) (n2i y) | (x,y) <- sigma] discrete\n",
    "    i2n i = revns !! i\n",
    "    n2i x = n2iMap ! x\n",
    "    revns = reverse (fv nctx)\n",
    "    n2iMap = fromList $ zip revns [0..maxVal]\n",
    "    maxVal = length nctx - 1\n",
    "\n",
    "mkPartitionFromEqC' :: Ctx' -> EqC -> (Partition Int, (Nm -> Int, Int -> Nm))\n",
    "mkPartitionFromEqC' (nctx,maxVal,n2iMap) sigma = (part, (n2i, i2n))\n",
    "  where\n",
    "    part =  foldr (.) id [joinElems (n2i x) (n2i y) | (x,y) <- sigma] discrete\n",
    "    i2n i = quan2nm $ nctx !! (maxVal - i)\n",
    "    n2i x = n2iMap ! x\n",
    "\n",
    "joinNm ctx (x,y) sigma = joinElems (n2i x) (n2i y) sigma\n",
    "  where (n2i,i2n) = mkMapFunsFromEqC' ctx sigma\n",
    "\n",
    "joinParts sigma_p sigma_q = fromSets $ nontrivialSets sigma_p ++ nontrivialSets sigma_q\n",
    "\n",
    "mkMapFunsFromEqC' :: Ctx' -> EqC' -> (Nm -> Int, Int -> Nm)\n",
    "mkMapFunsFromEqC' (nctx,maxVal,n2iMap) sigma = (n2i, i2n)\n",
    "  where\n",
    "    i2n i = quan2nm $ nctx !! (maxVal - i)\n",
    "    n2i x = n2iMap ! x\n",
    "\n",
    "part2eqc :: Ctx' -> EqC' -> EqC\n",
    "part2eqc ctx@(nctx,maxVal,n2iMap) sigma =\n",
    "  [(i2n i, i2n j) | (i,j) <- [(i, P.rep sigma i) | i<-[0..maxVal]], i/=j]\n",
    "  where (n2i,i2n) = mkMapFunsFromEqC' ctx sigma\n",
    "\n",
    "-- one_ :: (Fresh m, Alternative m) => Ctx' -> Pr -> m (EqC',(Act,Pr))\n",
    "one_ ctx  (Out x y p)   = return (P.empty, (Up x y, p))\n",
    "one_ ctx  (TauP p)      = return (P.empty, (Tau, p))\n",
    "one_ ctx  (Match (Var x) (Var y) p)  | x == y                   = one_ ctx p\n",
    "                                     | [(x,y)] `respects'` ctx  =\n",
    "                                           do  (sigma, r) <- one_ ctx p\n",
    "                                               let sigma' = joinNm ctx (x,y) sigma\n",
    "                                               guard $ sigma' `respects_` ctx\n",
    "                                               return (sigma', r)\n",
    "one_ ctx  (Plus p q) = one_ ctx p <|> one_ ctx q\n",
    "one_ ctx  (Par p q)\n",
    "  =    do  (sigma,(l,p')) <- one_ ctx p;  return (sigma,(l,Par p' q))\n",
    "  <|>  do  (sigma,(l,q')) <- one_ ctx q;  return (sigma,(l,Par p q'))\n",
    "  <|>  do  (sigma_p,(lp,bp)) <- one_b ctx p;  (sigma_q,(lq,bq)) <- one_b ctx q\n",
    "           case (lp, lq) of             -- close\n",
    "             (DnB(Var x),UpB(Var x'))  -> do  (y, q', p') <-  unbind2' bq bp\n",
    "                                              let sigma' = joinNm ctx (x,x') (joinParts sigma_p sigma_q)\n",
    "                                              guard $ sigma' `respects_` ctx\n",
    "                                              return (sigma', (Tau, Nu(y.\\Par p' q')))\n",
    "             (UpB(Var x'),DnB(Var x))  -> do  (y, p', q') <- unbind2' bp bq\n",
    "                                              let sigma' = joinNm ctx (x,x') (joinParts sigma_p sigma_q)\n",
    "                                              guard $ sigma' `respects_` ctx\n",
    "                                              return (sigma', (Tau, Nu(y.\\Par p' q')))\n",
    "             _                         -> empty\n",
    "  <|>  do  (sigma_p, (Up (Var x) v, p')) <- one_ ctx p\n",
    "           (sigma_q, (DnB (Var x'), bq)) <- one_b ctx q;  (y, q') <- unbind bq\n",
    "           let sigma' = joinNm ctx (x,x') (joinParts sigma_p sigma_q)\n",
    "           guard $ sigma' `respects_` ctx\n",
    "           return (sigma', (Tau, Par p' (subst y v q'))) -- interaction\n",
    "  <|>  do  (sigma_p, (DnB (Var x'), (y, p')))   <- one_b'  ctx p\n",
    "           (sigma_q, (Up (Var x) v,     q'))    <- one_    ctx q\n",
    "           let sigma' = joinNm ctx (x,x') (joinParts sigma_p sigma_q)\n",
    "           guard $ sigma' `respects_` ctx\n",
    "           return (sigma', (Tau, Par (subst y v p') q'))\n",
    "one_ ctx (Nu b) = do  (x,p) <- unbind b;              let ctx' = extend (Nab x) ctx\n",
    "                      (sigma,(l,p')) <- one_ ctx' p;  let sigmaSubs = subs_ ctx' sigma\n",
    "                      case l of  Up (Var x') (Var y)  | x == sigmaSubs x'  -> empty\n",
    "                                                      | x == sigmaSubs y   -> empty\n",
    "                                 _                    -> return (sigma, (l, Nu(x.\\p')))\n",
    "one_ _    _      = empty\n",
    "\n",
    "-- one_b :: (Fresh m, Alternative m) => Ctx' -> Pr -> m (EqC',(ActB, PrB))\n",
    "one_b ctx (In x p) = return (P.empty, (DnB x, p))\n",
    "one_b ctx (Match (Var x) (Var y) p)  | x == y                   = one_b ctx p\n",
    "                                     | [(x,y)] `respects'` ctx  =\n",
    "                                           do  (sigma, r) <- one_b ctx p\n",
    "                                               let sigma' = joinNm ctx (x,y) sigma\n",
    "                                               guard $ sigma' `respects_` ctx\n",
    "                                               return (sigma', r)\n",
    "one_b ctx (Plus p q) = one_b ctx p <|> one_b ctx q\n",
    "one_b ctx (Par p q) =\n",
    "       do (sigma,(l,(x,p'))) <- one_b' ctx p;  return (sigma,(l, x.\\Par p' q))\n",
    "  <|>  do (sigma,(l,(x,q'))) <- one_b' ctx q;  return (sigma,(l, x.\\Par p q'))\n",
    "one_b ctx (Nu b)  =    do  (x,p) <- unbind b;                    let ctx' = extend (Nab x) ctx\n",
    "                           (sigma,(l,(y,p'))) <- one_b' ctx' p;  let sigmaSubs = subs_ ctx' sigma\n",
    "                           case l of  UpB (Var x')  | x == sigmaSubs x' -> empty\n",
    "                                      DnB (Var x')  | x == sigmaSubs x' -> empty\n",
    "                                      _             -> return (sigma, (l, y.\\Nu (x.\\p')))\n",
    "                  <|>  do  (x,p) <- unbind b;                          let ctx' = extend (Nab x) ctx\n",
    "                           (sigma,(Up y (Var x'),p')) <- one_ ctx' p;  let sigmaSubs = subs_ ctx' sigma\n",
    "                           guard $ x == sigmaSubs x' && Var x /= sigmaSubs y\n",
    "                           return (sigma, (UpB y, x.\\p')) -- open\n",
    "one_b _    _ = empty\n",
    "\n",
    "one_b' ctx p = do (sigma,(l,b)) <- one_b ctx p; r <- unbind b; return (sigma,(l,r))"
   ]
  },
  {
   "cell_type": "markdown",
   "metadata": {},
   "source": [
    "## module OpenBisim"
   ]
  },
  {
   "cell_type": "code",
   "execution_count": 6,
   "metadata": {},
   "outputs": [
    {
     "data": {
      "text/html": [
       "<style>/* Styles used for the Hoogle display in the pager */\n",
       ".hoogle-doc {\n",
       "display: block;\n",
       "padding-bottom: 1.3em;\n",
       "padding-left: 0.4em;\n",
       "}\n",
       ".hoogle-code {\n",
       "display: block;\n",
       "font-family: monospace;\n",
       "white-space: pre;\n",
       "}\n",
       ".hoogle-text {\n",
       "display: block;\n",
       "}\n",
       ".hoogle-name {\n",
       "color: green;\n",
       "font-weight: bold;\n",
       "}\n",
       ".hoogle-head {\n",
       "font-weight: bold;\n",
       "}\n",
       ".hoogle-sub {\n",
       "display: block;\n",
       "margin-left: 0.4em;\n",
       "}\n",
       ".hoogle-package {\n",
       "font-weight: bold;\n",
       "font-style: italic;\n",
       "}\n",
       ".hoogle-module {\n",
       "font-weight: bold;\n",
       "}\n",
       ".hoogle-class {\n",
       "font-weight: bold;\n",
       "}\n",
       ".get-type {\n",
       "color: green;\n",
       "font-weight: bold;\n",
       "font-family: monospace;\n",
       "display: block;\n",
       "white-space: pre-wrap;\n",
       "}\n",
       ".show-type {\n",
       "color: green;\n",
       "font-weight: bold;\n",
       "font-family: monospace;\n",
       "margin-left: 1em;\n",
       "}\n",
       ".mono {\n",
       "font-family: monospace;\n",
       "display: block;\n",
       "}\n",
       ".err-msg {\n",
       "color: red;\n",
       "font-style: italic;\n",
       "font-family: monospace;\n",
       "white-space: pre;\n",
       "display: block;\n",
       "}\n",
       "#unshowable {\n",
       "color: red;\n",
       "font-weight: bold;\n",
       "}\n",
       ".err-msg.in.collapse {\n",
       "padding-top: 0.7em;\n",
       "}\n",
       ".highlight-code {\n",
       "white-space: pre;\n",
       "font-family: monospace;\n",
       "}\n",
       ".suggestion-warning { \n",
       "font-weight: bold;\n",
       "color: rgb(200, 130, 0);\n",
       "}\n",
       ".suggestion-error { \n",
       "font-weight: bold;\n",
       "color: red;\n",
       "}\n",
       ".suggestion-name {\n",
       "font-weight: bold;\n",
       "}\n",
       "</style><div class=\"suggestion-name\" style=\"clear:both;\">Reduce duplication</div><div class=\"suggestion-row\" style=\"float: left;\"><div class=\"suggestion-warning\">Found:</div><div class=\"highlight-code\" id=\"haskell\">(sigma, r) <- runFreshMT (one_ ctx p)\n",
       "let sigmaSubs = subs_ ctx sigma\n",
       "let (lp, p') = sigmaSubs r\n",
       "</div></div><div class=\"suggestion-row\" style=\"float: left;\"><div class=\"suggestion-warning\">Why Not:</div><div class=\"highlight-code\" id=\"haskell\">Combine with <unknown>.hs:64:14</div></div><div class=\"suggestion-name\" style=\"clear:both;\">Reduce duplication</div><div class=\"suggestion-row\" style=\"float: left;\"><div class=\"suggestion-warning\">Found:</div><div class=\"highlight-code\" id=\"haskell\">(sigma, r) <- runFreshMT (one_b ctx p)\n",
       "let sigmaSubs = subs_ ctx sigma\n",
       "let (lp, bp') = sigmaSubs r\n",
       "let x' = runFreshM $ freshFrom (fv nctx) bp'\n",
       "</div></div><div class=\"suggestion-row\" style=\"float: left;\"><div class=\"suggestion-warning\">Why Not:</div><div class=\"highlight-code\" id=\"haskell\">Combine with <unknown>.hs:70:14</div></div><div class=\"suggestion-name\" style=\"clear:both;\">Reduce duplication</div><div class=\"suggestion-row\" style=\"float: left;\"><div class=\"suggestion-warning\">Found:</div><div class=\"highlight-code\" id=\"haskell\">guard $ lp == lq\n",
       "(x, q1, p1) <- unbind2' bq' bp'\n",
       "let (p', q')\n",
       "      | x == x' = (p1, q1)\n",
       "      | otherwise = subst x (Var x') (p1, q1)\n",
       "let ctx'\n",
       "      = case lp of\n",
       "            DnB _ -> extend (All x') ctx\n",
       "            UpB _ -> extend (Nab x') ctx\n",
       "return . (and :: [Bool] -> Bool) $ f (ctx', p', q')\n",
       "</div></div><div class=\"suggestion-row\" style=\"float: left;\"><div class=\"suggestion-warning\">Why Not:</div><div class=\"highlight-code\" id=\"haskell\">Combine with <unknown>.hs:120:8</div></div><div class=\"suggestion-name\" style=\"clear:both;\">Reduce duplication</div><div class=\"suggestion-row\" style=\"float: left;\"><div class=\"suggestion-warning\">Found:</div><div class=\"highlight-code\" id=\"haskell\">guard $ lp == lq\n",
       "(x, p1, q1) <- unbind2' bp' bq'\n",
       "let (p', q')\n",
       "      | x == x' = (p1, q1)\n",
       "      | otherwise = subst x (Var x') (p1, q1)\n",
       "let ctx'\n",
       "      = case lp of\n",
       "            DnB _ -> extend (All x') ctx\n",
       "            UpB _ -> extend (Nab x') ctx\n",
       "</div></div><div class=\"suggestion-row\" style=\"float: left;\"><div class=\"suggestion-warning\">Why Not:</div><div class=\"highlight-code\" id=\"haskell\">Combine with <unknown>.hs:100:8</div></div><div class=\"suggestion-name\" style=\"clear:both;\">Reduce duplication</div><div class=\"suggestion-row\" style=\"float: left;\"><div class=\"suggestion-warning\">Found:</div><div class=\"highlight-code\" id=\"haskell\">(sigma, r) <- runFreshMT (one_b ctx p)\n",
       "let (lp, bp') = subs_ ctx sigma r\n",
       "let x' = runFreshM $ freshFrom (fv nctx) bp'\n",
       "</div></div><div class=\"suggestion-row\" style=\"float: left;\"><div class=\"suggestion-warning\">Why Not:</div><div class=\"highlight-code\" id=\"haskell\">Combine with <unknown>.hs:136:6</div></div><div class=\"suggestion-name\" style=\"clear:both;\">Reduce duplication</div><div class=\"suggestion-row\" style=\"float: left;\"><div class=\"suggestion-warning\">Found:</div><div class=\"highlight-code\" id=\"haskell\">(lq, bq') <- IdSubLTS.oneb (subs_ ctx sigma q)\n",
       "guard $ lp == lq\n",
       "(x, p1, q1) <- unbind2' bp' bq'\n",
       "let (p', q')\n",
       "      | x == x' = (p1, q1)\n",
       "      | otherwise = subst x (Var x') (p1, q1)\n",
       "let ctx'\n",
       "      = case lp of\n",
       "            DnB _ -> extend (All x') ctx\n",
       "            UpB _ -> extend (Nab x') ctx\n",
       "</div></div><div class=\"suggestion-row\" style=\"float: left;\"><div class=\"suggestion-warning\">Why Not:</div><div class=\"highlight-code\" id=\"haskell\">Combine with <unknown>.hs:140:8</div></div><div class=\"suggestion-name\" style=\"clear:both;\">Reduce duplication</div><div class=\"suggestion-row\" style=\"float: left;\"><div class=\"suggestion-warning\">Found:</div><div class=\"highlight-code\" id=\"haskell\">(sigma, r) <- runFreshMT (one_b ctx q)\n",
       "let (lq, bq') = subs_ ctx sigma r\n",
       "let x' = runFreshM $ freshFrom (fv nctx) bq'\n",
       "</div></div><div class=\"suggestion-row\" style=\"float: left;\"><div class=\"suggestion-warning\">Why Not:</div><div class=\"highlight-code\" id=\"haskell\">Combine with <unknown>.hs:156:6</div></div><div class=\"suggestion-name\" style=\"clear:both;\">Reduce duplication</div><div class=\"suggestion-row\" style=\"float: left;\"><div class=\"suggestion-warning\">Found:</div><div class=\"highlight-code\" id=\"haskell\">(lp, bp') <- IdSubLTS.oneb (subs_ ctx sigma p)\n",
       "guard $ lp == lq\n",
       "(x, q1, p1) <- unbind2' bq' bp'\n",
       "let (p', q')\n",
       "      | x == x' = (p1, q1)\n",
       "      | otherwise = subst x (Var x') (p1, q1)\n",
       "let ctx'\n",
       "      = case lp of\n",
       "            DnB _ -> extend (All x') ctx\n",
       "            UpB _ -> extend (Nab x') ctx\n",
       "</div></div><div class=\"suggestion-row\" style=\"float: left;\"><div class=\"suggestion-warning\">Why Not:</div><div class=\"highlight-code\" id=\"haskell\">Combine with <unknown>.hs:160:8</div></div><div class=\"suggestion-name\" style=\"clear:both;\">Reduce duplication</div><div class=\"suggestion-row\" style=\"float: left;\"><div class=\"suggestion-warning\">Found:</div><div class=\"highlight-code\" id=\"haskell\">let sigmaSubs = subs nctx sigma\n",
       "guard $ sigmaSubs a == sigmaSubs a'\n",
       "return sigma\n",
       "</div></div><div class=\"suggestion-row\" style=\"float: left;\"><div class=\"suggestion-warning\">Why Not:</div><div class=\"highlight-code\" id=\"haskell\">Combine with <unknown>.hs:242:46</div></div>"
      ],
      "text/plain": [
       "Line 43: Reduce duplication\n",
       "Found:\n",
       "(sigma, r) <- runFreshMT (one_ ctx p)\n",
       "let sigmaSubs = subs_ ctx sigma\n",
       "let (lp, p') = sigmaSubs r\n",
       "\n",
       "Why not:\n",
       "Combine with <unknown>.hs:64:14Line 49: Reduce duplication\n",
       "Found:\n",
       "(sigma, r) <- runFreshMT (one_b ctx p)\n",
       "let sigmaSubs = subs_ ctx sigma\n",
       "let (lp, bp') = sigmaSubs r\n",
       "let x' = runFreshM $ freshFrom (fv nctx) bp'\n",
       "\n",
       "Why not:\n",
       "Combine with <unknown>.hs:70:14Line 54: Reduce duplication\n",
       "Found:\n",
       "guard $ lp == lq\n",
       "(x, q1, p1) <- unbind2' bq' bp'\n",
       "let (p', q')\n",
       "      | x == x' = (p1, q1)\n",
       "      | otherwise = subst x (Var x') (p1, q1)\n",
       "let ctx'\n",
       "      = case lp of\n",
       "            DnB _ -> extend (All x') ctx\n",
       "            UpB _ -> extend (Nab x') ctx\n",
       "return . (and :: [Bool] -> Bool) $ f (ctx', p', q')\n",
       "\n",
       "Why not:\n",
       "Combine with <unknown>.hs:120:8Line 75: Reduce duplication\n",
       "Found:\n",
       "guard $ lp == lq\n",
       "(x, p1, q1) <- unbind2' bp' bq'\n",
       "let (p', q')\n",
       "      | x == x' = (p1, q1)\n",
       "      | otherwise = subst x (Var x') (p1, q1)\n",
       "let ctx'\n",
       "      = case lp of\n",
       "            DnB _ -> extend (All x') ctx\n",
       "            UpB _ -> extend (Nab x') ctx\n",
       "\n",
       "Why not:\n",
       "Combine with <unknown>.hs:100:8Line 95: Reduce duplication\n",
       "Found:\n",
       "(sigma, r) <- runFreshMT (one_b ctx p)\n",
       "let (lp, bp') = subs_ ctx sigma r\n",
       "let x' = runFreshM $ freshFrom (fv nctx) bp'\n",
       "\n",
       "Why not:\n",
       "Combine with <unknown>.hs:136:6Line 99: Reduce duplication\n",
       "Found:\n",
       "(lq, bq') <- IdSubLTS.oneb (subs_ ctx sigma q)\n",
       "guard $ lp == lq\n",
       "(x, p1, q1) <- unbind2' bp' bq'\n",
       "let (p', q')\n",
       "      | x == x' = (p1, q1)\n",
       "      | otherwise = subst x (Var x') (p1, q1)\n",
       "let ctx'\n",
       "      = case lp of\n",
       "            DnB _ -> extend (All x') ctx\n",
       "            UpB _ -> extend (Nab x') ctx\n",
       "\n",
       "Why not:\n",
       "Combine with <unknown>.hs:140:8Line 115: Reduce duplication\n",
       "Found:\n",
       "(sigma, r) <- runFreshMT (one_b ctx q)\n",
       "let (lq, bq') = subs_ ctx sigma r\n",
       "let x' = runFreshM $ freshFrom (fv nctx) bq'\n",
       "\n",
       "Why not:\n",
       "Combine with <unknown>.hs:156:6Line 119: Reduce duplication\n",
       "Found:\n",
       "(lp, bp') <- IdSubLTS.oneb (subs_ ctx sigma p)\n",
       "guard $ lp == lq\n",
       "(x, q1, p1) <- unbind2' bq' bp'\n",
       "let (p', q')\n",
       "      | x == x' = (p1, q1)\n",
       "      | otherwise = subst x (Var x') (p1, q1)\n",
       "let ctx'\n",
       "      = case lp of\n",
       "            DnB _ -> extend (All x') ctx\n",
       "            UpB _ -> extend (Nab x') ctx\n",
       "\n",
       "Why not:\n",
       "Combine with <unknown>.hs:160:8Line 237: Reduce duplication\n",
       "Found:\n",
       "let sigmaSubs = subs nctx sigma\n",
       "guard $ sigmaSubs a == sigmaSubs a'\n",
       "return sigma\n",
       "\n",
       "Why not:\n",
       "Combine with <unknown>.hs:242:46"
      ]
     },
     "metadata": {},
     "output_type": "display_data"
    }
   ],
   "source": [
    "{-# LANGUAGE FlexibleContexts          #-}\n",
    "{-# LANGUAGE FlexibleInstances         #-}\n",
    "{-# LANGUAGE MultiParamTypeClasses     #-}\n",
    "{-# LANGUAGE NoMonomorphismRestriction #-}\n",
    "{-# LANGUAGE ScopedTypeVariables       #-}\n",
    "{-# LANGUAGE UndecidableInstances      #-}\n",
    "module OpenBisim where\n",
    "import           Control.Applicative\n",
    "import           Control.Lens.Fold\n",
    "import           Control.Monad\n",
    "import           Control.Monad.Fail\n",
    "import qualified Control.Monad.Fail as Fail\n",
    "import           Data.Tree\n",
    "import qualified IdSubLTS\n",
    "import           MemoUgly\n",
    "import           OpenLTS                 hiding (one, oneb)\n",
    "import           PiCalc\n",
    "import           Unbound.Generics.LocallyNameless hiding (fv)\n",
    "{-# ANN module \"HLint: ignore Use mappend\" #-}\n",
    " \n",
    "instance MonadFail f => MonadFail (FreshMT f) where\n",
    "  fail = runFreshMT . Fail.fail\n",
    "\n",
    "data StepLog  =  One   Ctx EqC Act   Pr\n",
    "              |  OneB  Ctx EqC ActB  PrB  deriving (Eq,Ord,Show)\n",
    "\n",
    "returnL log = return . Node (Left log)   -- for the step on |p|'s side\n",
    "returnR log = return . Node (Right log)  -- for the step on |q|'s side\n",
    "\n",
    "-- wrapper -----------------------------\n",
    "sim nctx = sim2 (toCtx' nctx)\n",
    "sim' nctx = sim2' (toCtx' nctx)\n",
    "bisim nctx = bisim2 (toCtx' nctx)\n",
    "bisim' nctx = bisim2' (toCtx' nctx)\n",
    "----------------------------------------\n",
    "\n",
    "sim2 ctx p q = and $ sim2_ ctx p q\n",
    "\n",
    "sim2_ :: Ctx' -> Pr -> Pr -> [Bool]\n",
    "sim2_ ctx p q = memoFix sim2_unfix (ctx,p,q)\n",
    "\n",
    "sim2_unfix f (ctx@(nctx,_,_), p, q)  =\n",
    "       do  (sigma, r) <- runFreshMT (one_ ctx p); let sigmaSubs = subs_ ctx sigma\n",
    "           let (lp, p') = sigmaSubs r\n",
    "           return . (or :: [Bool] -> Bool) . runFreshMT $ do\n",
    "             (lq, q') <-IdSubLTS.one (sigmaSubs q)\n",
    "             guard $ lp == lq\n",
    "             return . (and :: [Bool] -> Bool) $ f(ctx,p',q')\n",
    "   <|>  do  (sigma, r) <- runFreshMT (one_b ctx p); let sigmaSubs = subs_ ctx sigma\n",
    "            let (lp, bp') = sigmaSubs r\n",
    "            let x' = runFreshM $ freshFrom (fv nctx) bp'\n",
    "            return . (or :: [Bool] -> Bool) . runFreshMT $ do\n",
    "              (lq, bq') <-IdSubLTS.oneb (sigmaSubs q)\n",
    "              guard $ lp == lq\n",
    "              (x, q1, p1) <- unbind2' bq' bp'\n",
    "              let (p', q')  | x == x'    = (p1, q1)\n",
    "                            | otherwise  = subst x (Var x') (p1, q1)\n",
    "              let ctx' = case lp of   DnB _ -> extend (All x') ctx\n",
    "                                      UpB _ -> extend (Nab x') ctx\n",
    "              return . (and :: [Bool] -> Bool) $ f(ctx',p',q')\n",
    "\n",
    "-- sim2' :: Ctx' -> Pr -> Pr -> [Tree (Either StepLog StepLog)]\n",
    "sim2' ctx@(nctx,_,_) p q   =\n",
    "        do   (sigma, r) <- runFreshMT (one_ ctx p); let sigmaSubs = subs_ ctx sigma\n",
    "             let (lp, p') = sigmaSubs r\n",
    "             returnL (One nctx (toEqC sigma) lp p') . runFreshMT $ do\n",
    "               (lq, q') <-IdSubLTS.one (sigmaSubs q)\n",
    "               guard $ lp == lq\n",
    "               returnR (One nctx (toEqC sigma) lq q') $ sim2' ctx p' q'\n",
    "  <|>   do   (sigma, r) <- runFreshMT (one_b ctx p); let sigmaSubs = subs_ ctx sigma\n",
    "             let (lp, bp') = sigmaSubs r\n",
    "             let x' = runFreshM $ freshFrom (fv nctx) bp'\n",
    "             returnL (OneB nctx (toEqC sigma) lp bp') . runFreshMT $ do\n",
    "               (lq, bq') <-IdSubLTS.oneb (sigmaSubs q)\n",
    "               guard $ lp == lq\n",
    "               (x, p1, q1) <- unbind2' bp' bq'\n",
    "               let (p', q')   | x == x'    = (p1, q1)\n",
    "                              | otherwise  = subst x (Var x') (p1, q1)\n",
    "               let ctx' = case lp of   DnB _ -> extend (All x') ctx\n",
    "                                       UpB _ -> extend (Nab x') ctx\n",
    "               returnR (OneB nctx (toEqC sigma) lq bq') $ sim2' ctx' p' q'\n",
    "  where toEqC = part2eqc ctx\n",
    "\n",
    "bisim2 ctx p q = and $ bisim2_ ctx p q -- (simplify p) (simplify q)\n",
    "\n",
    "bisim2_ ctx p q = memoFix bisim2_unfix (ctx,p,q)\n",
    "bisim2_unfix f (ctx@(nctx,_,_),p,q) =\n",
    "  do (sigma, r) <- runFreshMT (one_ ctx p)\n",
    "     let (lp, p') = subs_ ctx sigma r\n",
    "     return . (or :: [Bool] -> Bool) . runFreshMT $ do\n",
    "       (lq, q') <-IdSubLTS.one (subs_ ctx sigma q) -- follow with same sub and label\n",
    "       guard $ lp == lq\n",
    "       return . (and :: [Bool] -> Bool) $ f(ctx,p',q')\n",
    "  <|>\n",
    "  do (sigma, r) <- runFreshMT (one_b ctx p)\n",
    "     let (lp, bp') = subs_ ctx sigma r\n",
    "     let x' = runFreshM $ freshFrom (fv nctx) bp' -- to use same new quan var\n",
    "     return . (or :: [Bool] -> Bool) . runFreshMT $ do\n",
    "       (lq, bq') <-IdSubLTS.oneb (subs_ ctx sigma q) -- follow with same sub and label\n",
    "       guard $ lp == lq\n",
    "       (x, p1, q1) <- unbind2' bp' bq'\n",
    "       let (p', q') | x == x'   = (p1, q1) -- to use same new quan var\n",
    "                    | otherwise = subst x (Var x') (p1, q1)\n",
    "       let ctx' = case lp of DnB _ -> extend (All x') ctx\n",
    "                             UpB _ -> extend (Nab x') ctx\n",
    "       return . (and :: [Bool] -> Bool) $ f(ctx',p',q')\n",
    "  <|>\n",
    "  do (sigma, r) <- runFreshMT (one_ ctx q)\n",
    "     let (lq, q') = subs_ ctx sigma r\n",
    "     return . (or :: [Bool] -> Bool) . runFreshMT $ do\n",
    "       (lp, p') <-IdSubLTS.one (subs_ ctx sigma p) -- follow with same sub and label\n",
    "       guard $ lp == lq\n",
    "       return . (and :: [Bool] -> Bool) $ f(ctx,p',q')\n",
    "  <|>\n",
    "  do (sigma, r) <- runFreshMT (one_b ctx q)\n",
    "     let (lq, bq') = subs_ ctx sigma r\n",
    "     let x' = runFreshM $ freshFrom (fv nctx) bq' -- to use same new quan var\n",
    "     return . (or :: [Bool] -> Bool) . runFreshMT $ do\n",
    "       (lp, bp') <-IdSubLTS.oneb (subs_ ctx sigma p) -- follow with same sub and label\n",
    "       guard $ lp == lq\n",
    "       (x, q1, p1) <- unbind2' bq' bp'\n",
    "       let (p', q') | x == x'   = (p1, q1) -- to use same new quan var\n",
    "                    | otherwise = subst x (Var x') (p1, q1)\n",
    "       let ctx' = case lp of DnB _ -> extend (All x') ctx\n",
    "                             UpB _ -> extend (Nab x') ctx\n",
    "       return . (and :: [Bool] -> Bool) $ f(ctx',p',q')\n",
    "\n",
    "bisim2' ctx@(nctx,_,_) p q =\n",
    "  do (sigma, r) <- runFreshMT (one_ ctx p)\n",
    "     let (lp, p') = subs_ ctx sigma r\n",
    "     returnL (One nctx (toEqC sigma) lp p') . runFreshMT $ do\n",
    "       (lq, q') <-IdSubLTS.one (subs_ ctx sigma q) -- follow with same sub and label\n",
    "       guard $ lp == lq\n",
    "       returnR (One nctx (toEqC sigma) lq q') $ bisim2' ctx p' q'\n",
    "  <|>\n",
    "  do (sigma, r) <- runFreshMT (one_b ctx p)\n",
    "     let (lp, bp') = subs_ ctx sigma r\n",
    "     let x' = runFreshM $ freshFrom (fv nctx) bp' -- to use same new quan var\n",
    "     returnL (OneB nctx (toEqC sigma) lp bp') . runFreshMT $ do\n",
    "       (lq, bq') <-IdSubLTS.oneb (subs_ ctx sigma q) -- follow with same sub and label\n",
    "       guard $ lp == lq\n",
    "       (x, p1, q1) <- unbind2' bp' bq'\n",
    "       let (p', q') | x == x'   = (p1, q1) -- to use same new quan var\n",
    "                    | otherwise = subst x (Var x') (p1, q1)\n",
    "       let ctx' = case lp of DnB _ -> extend (All x') ctx\n",
    "                             UpB _ -> extend (Nab x') ctx\n",
    "       returnR (OneB nctx (toEqC sigma) lq bq') $ bisim2' ctx' p' q'\n",
    "  <|>\n",
    "  do (sigma, r) <- runFreshMT (one_ ctx q)\n",
    "     let (lq, q') = subs_ ctx sigma r\n",
    "     returnR (One nctx (toEqC sigma) lq q') . runFreshMT $ do\n",
    "       (lp, p') <-IdSubLTS.one (subs_ ctx sigma p) -- follow with same sub and label\n",
    "       guard $ lp == lq\n",
    "       returnL (One nctx (toEqC sigma) lp p') $ bisim2' ctx p' q'\n",
    "  <|>\n",
    "  do (sigma, r) <- runFreshMT (one_b ctx q)\n",
    "     let (lq, bq') = subs_ ctx sigma r\n",
    "     let x' = runFreshM $ freshFrom (fv nctx) bq' -- to use same new quan var\n",
    "     returnR (OneB nctx (toEqC sigma) lq bq') . runFreshMT $ do\n",
    "       (lp, bp') <-IdSubLTS.oneb (subs_ ctx sigma p) -- follow with same sub and label\n",
    "       guard $ lp == lq\n",
    "       (x, q1, p1) <- unbind2' bq' bp'\n",
    "       let (p', q') | x == x'   = (p1, q1) -- to use same new quan var\n",
    "                    | otherwise = subst x (Var x') (p1, q1)\n",
    "       let ctx' = case lp of DnB _ -> extend (All x') ctx\n",
    "                             UpB _ -> extend (Nab x') ctx\n",
    "       returnL (OneB nctx (toEqC sigma) lp bp') $ bisim2' ctx' p' q'\n",
    "  where toEqC = part2eqc ctx\n",
    "\n",
    "freshFrom :: Fresh m => [Nm] -> PrB -> m Nm\n",
    "freshFrom xs b = do { mapM_ fresh xs; fst <$> unbind b }\n",
    "\n",
    "forest2df :: [Tree (Either StepLog StepLog)] -> [(Form,Form)]\n",
    "forest2df rs\n",
    "            =    do  Node (Left (One _ sigma_p a _)) [] <- rs\n",
    "                     let sigmaqs = subsMatchingAct a (right1s rs)\n",
    "                     return (prebase sigma_p a, postbase sigmaqs a)\n",
    "            <|>  do  Node (Right (One _ sigma_q a _)) [] <- rs\n",
    "                     let formR = prebase sigma_q a\n",
    "                     let sigmaps = subsMatchingAct a (left1s rs)\n",
    "                     return (postbase sigmaps a, formR)\n",
    "            <|>  do  Node (Left (OneB _ sigma_p a _)) [] <- rs\n",
    "                     let sigmaqs = subsMatchingActB a (right1Bs rs)\n",
    "                     return (preBbase sigma_p a, postBbase sigmaqs a)\n",
    "            <|>  do  Node (Right (OneB _ sigma_q a _)) [] <- rs\n",
    "                     let formR = preBbase sigma_q a\n",
    "                     let sigmaps = subsMatchingActB a (left1Bs rs)\n",
    "                     return (postBbase sigmaps a, formR)\n",
    "            <|>  do  Node (Left (One _ sigma_p a _)) rsR <- rs\n",
    "                     let rss' = [rs' | Node _ rs' <- rsR]\n",
    "                     (dfsL,dfsR) <- unzip <$> sequence (forest2df <$> rss')\n",
    "                     guard . not . null $ dfsL\n",
    "                     let sigmaqs = subsMatchingAct a (right1s rs)\n",
    "                     return (pre sigma_p a dfsL, post sigmaqs a dfsR)\n",
    "            <|>  do  Node (Right (One _ sigma_q a _)) rsL <- rs\n",
    "                     let rss' = [rs' | Node _ rs' <- rsL]\n",
    "                     (dfsL,dfsR) <- unzip <$> sequence (forest2df <$> rss')\n",
    "                     guard . not . null $ dfsL\n",
    "                     let sigmaps = subsMatchingAct a (left1s rs)\n",
    "                     return (post sigmaps a dfsL, pre sigma_q a dfsR)\n",
    "            <|>  do  Node (Left (OneB nctx sigma_p a _)) rsR <- rs\n",
    "                     let  rss' = [rs' | Node _ rs' <- rsR]\n",
    "                          x = quan2nm . head . getCtx . fromEither\n",
    "                            . rootLabel . head $ head rss'\n",
    "                     (dfsL,dfsR) <- unzip <$> sequence (forest2df <$> rss')\n",
    "                     guard . not . null $ dfsL\n",
    "                     let sigmaqs = subsMatchingActB a (right1Bs rs)\n",
    "                     return (preB sigma_p a x dfsL, postB sigmaqs a x dfsR)\n",
    "            <|>  do  Node (Right (OneB nctx sigma_q a _)) rsL <- rs\n",
    "                     let  rss' = [rs' | Node _ rs' <- rsL]\n",
    "                          x = quan2nm . head . getCtx . fromEither . rootLabel\n",
    "                                $ head (head rss')\n",
    "                     (dfsL,dfsR) <- unzip <$> sequence (forest2df <$> rss')\n",
    "                     guard . not . null $ dfsL\n",
    "                     let sigmaps = subsMatchingActB a (left1Bs rs)\n",
    "                     return (postB sigmaps a x dfsL, preB sigma_q a x dfsR)\n",
    "  where\n",
    "    prebase sigma a = pre sigma a []\n",
    "    postbase sigmas a = post sigmas a []\n",
    "    preBbase sigma a = preB sigma a (s2n \"?\") []\n",
    "    postBbase sigmas a = postB sigmas a (s2n \"?\") []\n",
    "    pre sigma a = boxMat sigma . Dia a . conj\n",
    "    post sigmas a fs = Box a . disj $  (diaMat<$>sigmas) ++ fs\n",
    "    preB sigma a x = boxMat sigma . DiaB a . bind x . conj\n",
    "    postB sigmas a x fs = BoxB a . bind x . disj $  (diaMat<$>sigmas) ++ fs\n",
    "    boxMat  [] = id; boxMat  sigma = BoxMatch [(Var x,Var y) | (x,y)<-sigma]\n",
    "    diaMat  [] = FF; diaMat  sigma = DiaMatch [(Var x,Var y) | (x,y)<-sigma] TT\n",
    "    right1s  rs = [log | Node (Right  log@One{}) _ <- rs]\n",
    "    left1s   rs = [log | Node (Left   log@One{}) _ <- rs]\n",
    "    right1Bs  rs = [log | Node (Right  log@OneB{}) _ <- rs]\n",
    "    left1Bs   rs = [log | Node (Left   log@OneB{}) _ <- rs]\n",
    "    getCtx (One   nctx _ _ _)  = nctx; getCtx (OneB  nctx _ _ _) = nctx\n",
    "    fromEither (Left   t) = t; fromEither (Right  t) = t\n",
    "\n",
    "subsMatchingAct :: Act -> [StepLog] -> [EqC]\n",
    "subsMatchingAct a logs =\n",
    "  do  One nctx sigma a' _ <-logs          ;  let sigmaSubs = subs nctx sigma\n",
    "      guard $ sigmaSubs a == sigmaSubs a' ;  return sigma\n",
    "\n",
    "subsMatchingActB :: ActB -> [StepLog] -> [EqC]\n",
    "subsMatchingActB a logs =\n",
    "  do  OneB nctx sigma a' _ <-logs         ;  let sigmaSubs = subs nctx sigma\n",
    "      guard $ sigmaSubs a == sigmaSubs a' ;  return sigma"
   ]
  },
  {
   "cell_type": "markdown",
   "metadata": {},
   "source": [
    "# Examples"
   ]
  },
  {
   "cell_type": "code",
   "execution_count": 7,
   "metadata": {},
   "outputs": [],
   "source": [
    "{-# LANGUAGE FlexibleContexts          #-}\n",
    "{-# LANGUAGE FlexibleInstances         #-}\n",
    "{-# LANGUAGE MultiParamTypeClasses     #-}\n",
    "{-# LANGUAGE NoMonomorphismRestriction #-}\n",
    "{-# LANGUAGE ScopedTypeVariables       #-}\n",
    "{-# LANGUAGE UndecidableInstances      #-}\n",
    "\n",
    "import Prelude hiding ((<>))\n",
    "\n",
    "import           Data.Tree\n",
    "import qualified IdSubLTS                       as IdS\n",
    "import           OpenBisim\n",
    "import qualified OpenLTS                        as OpS\n",
    "import           PiCalc\n",
    "import           Text.PrettyPrint\n",
    "import           Text.PrettyPrint.HughesPJClass\n",
    "import           Unbound.Generics.LocallyNameless\n",
    "\n",
    "appPrec :: Rational\n",
    "appPrec = 10\n",
    "\n",
    "pp = print . pPrint\n",
    "\n",
    "instance Pretty Nm where pPrint = text . show\n",
    "instance Pretty Quan where\n",
    "  pPrintPrec l r (All x) = maybeParens (r > appPrec) $ text \"All\" <+> ppp x\n",
    "    where ppp = pPrintPrec l (appPrec+1)\n",
    "  pPrintPrec l r (Nab x) = maybeParens (r > appPrec) $ text \"Nab\" <+> ppp x\n",
    "    where ppp = pPrintPrec l (appPrec+1)\n",
    "instance Pretty Tm where\n",
    "  pPrintPrec l r (Var x) = maybeParens (r > appPrec) $ text \"Var\" <+> ppp x\n",
    "    where ppp = pPrintPrec l (appPrec+1)\n",
    "instance Pretty Act where\n",
    "  pPrintPrec l r (Up x y) = maybeParens (r > appPrec) $ text \"Up\" <+> ppp x <+> ppp y\n",
    "    where ppp = pPrintPrec l (appPrec+1)\n",
    "  pPrintPrec l r Tau = text \"Tau\"\n",
    "instance Pretty ActB where\n",
    "  pPrintPrec l r (UpB x) = maybeParens (r > appPrec) $ text \"UpB\" <+> ppp x\n",
    "    where ppp = pPrintPrec l (appPrec+1)\n",
    "  pPrintPrec l r (DnB x) = maybeParens (r > appPrec) $ text \"DnB\" <+> ppp x\n",
    "    where ppp = pPrintPrec l (appPrec+1)\n",
    "instance (Alpha a, Pretty a) => Pretty (Bind Nm a) where\n",
    "  pPrintPrec l r b = maybeParens (r > appPrec) $ ppp x <> text \".\\\\\" <> ppp p\n",
    "    where ppp = pPrintPrec l (appPrec+1); (x,p) = runFreshM $ unbind b\n",
    "instance Pretty Pr where\n",
    "  pPrintPrec _ _ Null = text \"Null\"\n",
    "  pPrintPrec l r (TauP p) = maybeParens (r > appPrec) $\n",
    "            text \"TauP\" <+> ppp p\n",
    "    where ppp = pPrintPrec l (appPrec+1)\n",
    "  pPrintPrec l r (Out x y p) = maybeParens (r > appPrec) $\n",
    "            text \"Out\" <+> ppp x <+> ppp y <+> ppp p\n",
    "    where ppp = pPrintPrec l (appPrec+1)\n",
    "  pPrintPrec l r (In x b) = maybeParens (r > appPrec) $\n",
    "            text \"In\" <+> ppp x <+> ppp b\n",
    "    where ppp = pPrintPrec l (appPrec+1)\n",
    "  pPrintPrec l r (Plus p q) = maybeParens (r > appPrec) $\n",
    "            ppp p <+> text \"`Plus`\" <+> ppp q\n",
    "    where ppp = pPrintPrec l (appPrec+1)\n",
    "  pPrintPrec l r (Par p q) = maybeParens (r > appPrec) $\n",
    "            ppp p <+> text \"`Par`\" <+> ppp q\n",
    "    where ppp = pPrintPrec l (appPrec+1)\n",
    "  pPrintPrec l r (Nu b) = maybeParens (r > appPrec) $\n",
    "            text \"Nu\" <> ppp b\n",
    "    where ppp = pPrintPrec l (appPrec+1)\n",
    "  pPrintPrec l r (Match x y p) = maybeParens (r > appPrec) $\n",
    "            text \"Match\" <+> ppp x <+> ppp y <+> ppp p\n",
    "    where ppp = pPrintPrec l (appPrec+1)\n",
    "instance Pretty Form where\n",
    "  pPrintPrec _ _ FF = text \"FF\"\n",
    "  pPrintPrec _ _ TT = text \"TT\"\n",
    "  pPrintPrec l r (Conj fs) = maybeParens (r > appPrec) $\n",
    "            text \"Conj\" <> ppp fs\n",
    "    where ppp = pPrintPrec l (appPrec+1)\n",
    "  pPrintPrec l r (Disj fs) = maybeParens (r > appPrec) $\n",
    "            text \"Disj\" <> ppp fs\n",
    "    where ppp = pPrintPrec l (appPrec+1)\n",
    "  pPrintPrec l r (Box a f) = maybeParens (r > appPrec) $\n",
    "            text \"Box\" <+> ppp a <+> ppp f\n",
    "    where ppp = pPrintPrec l (appPrec+1)\n",
    "  pPrintPrec l r (Dia a f) = maybeParens (r > appPrec) $\n",
    "             text \"Dia\" <+> ppp a <+> ppp f\n",
    "    where ppp = pPrintPrec l (appPrec+1)\n",
    "  pPrintPrec l r (BoxB a f) = maybeParens (r > appPrec) $\n",
    "            text \"BoxB\" <+> ppp a <+> ppp f\n",
    "    where ppp = pPrintPrec l (appPrec+1)\n",
    "  pPrintPrec l r (DiaB a f) = maybeParens (r > appPrec) $\n",
    "            text \"DiaB\" <+> ppp a <+> ppp f\n",
    "    where ppp = pPrintPrec l (appPrec+1)\n",
    "  pPrintPrec l r (BoxMatch sigma f) = maybeParens (r > appPrec) $\n",
    "            text \"BoxMatch\" <+> ppp sigma <+> ppp f\n",
    "    where ppp = pPrintPrec l (appPrec+1)\n",
    "  pPrintPrec l r (DiaMatch sigma f) = maybeParens (r > appPrec) $\n",
    "            text \"DiaMatch\" <+> ppp sigma <+> ppp f\n",
    "    where ppp = pPrintPrec l (appPrec+1)\n",
    "instance Pretty StepLog where\n",
    "  pPrintPrec l r (One  nctx sigma a p) = maybeParens (r > appPrec) $\n",
    "            text \"One\" <+> ppp nctx <+> ppp sigma <+> ppp a <+> ppp p\n",
    "    where ppp = pPrintPrec l (appPrec+1)\n",
    "  pPrintPrec l r (OneB nctx sigma a b) = maybeParens (r > appPrec) $\n",
    "            text \"OneB\" <+> ppp nctx <+> ppp sigma <+> ppp a <+> ppp b\n",
    "    where ppp = pPrintPrec l (appPrec+1)\n",
    "\n",
    "\n",
    "\n",
    "\n",
    "nm2bdw :: Fresh m => Nm -> m String\n",
    "nm2bdw x = return $ show x\n",
    "\n",
    "tm2bdw :: Fresh m => Tm -> m String\n",
    "tm2bdw (Var x) = nm2bdw x\n",
    "\n",
    "act2bdw :: Fresh m => Act -> m String\n",
    "act2bdw Tau      = return \"tau\"\n",
    "act2bdw (Up x y) = (\\x y -> \"(up \"++x++\" \"++y++\")\") <$> tm2bdw x <*> tm2bdw y\n",
    "\n",
    "actb2bdw :: Fresh m => ActB -> m String\n",
    "actb2bdw (UpB x) = (\\x -> \"(up \"++x++\")\") <$> (tm2bdw x)\n",
    "actb2bdw (DnB x) = (\\x -> \"(dn \"++x++\")\") <$> (tm2bdw x)\n",
    "\n",
    "pr2bdw :: Fresh m => Pr -> m String\n",
    "pr2bdw Null = return \"z\"\n",
    "pr2bdw (TauP p) = (\\p->\"(taup \"++p++\")\") <$> pr2bdw p\n",
    "pr2bdw (Out x y p) = (\\x y p->\"(out \"++x++\" \"++y++\" \"++p++\")\")\n",
    "                        <$> tm2bdw x <*> tm2bdw y <*> pr2bdw p\n",
    "pr2bdw (In x b) = do (w,p) <- unbind b\n",
    "                     (\\x w p->\"(in \"++x++\" \"++w++\"\\\\\"++p++\")\")\n",
    "                        <$> tm2bdw x <*> nm2bdw w <*> pr2bdw p\n",
    "pr2bdw (Match x y p) = (\\x y p->\"(match \"++x++\" \"++y++\" \"++p++\")\")\n",
    "                        <$> tm2bdw x <*> tm2bdw y <*> pr2bdw p\n",
    "pr2bdw (Plus p q) = (\\p q->\"(plus \"++p++\" \"++q++\")\") <$> pr2bdw p <*> pr2bdw q\n",
    "pr2bdw (Par p q) = (\\p q->\"(par \"++p++\" \"++q++\")\") <$> pr2bdw p <*> pr2bdw q\n",
    "pr2bdw (Nu b) = do (w,p) <- unbind b\n",
    "                   (\\w p->\"(nu \"++w++\"\\\\\"++p++\")\") <$> nm2bdw w <*> pr2bdw p\n",
    "\n",
    "form2bdw :: Fresh m => Form -> m String\n",
    "form2bdw FF = return \"ff\"\n",
    "form2bdw TT = return \"tt\"\n",
    "form2bdw (Conj []) = form2bdw TT\n",
    "form2bdw (Conj [f]) = form2bdw f\n",
    "form2bdw (Conj fs) = foldr1 (\\x y -> \"(conj \"++x++\" \"++y++\")\") <$> mapM form2bdw fs\n",
    "form2bdw (Disj []) = form2bdw FF\n",
    "form2bdw (Disj [f]) = form2bdw f\n",
    "form2bdw (Disj fs) = foldr1 (\\x y -> \"(disj \"++x++\" \"++y++\")\") <$> mapM form2bdw fs\n",
    "form2bdw (Dia a f) = (\\a f -> \"(diaAct \"++a++\" \"++f++\")\") <$> act2bdw a <*> form2bdw f\n",
    "form2bdw (Box a f) = (\\a f -> \"(boxAct \"++a++\" \"++f++\")\") <$> act2bdw a <*> form2bdw f\n",
    "form2bdw (DiaB (UpB x) b) = do (w,f) <- unbind b\n",
    "                               (\\x w f->\"(diaOut \"++x++\" \"++w++\"\\\\\"++f++\")\")\n",
    "                                 <$> tm2bdw x <*> nm2bdw w <*> form2bdw f\n",
    "form2bdw (DiaB (DnB x) b) = do (w,f) <- unbind b\n",
    "                               (\\x w f->\"(diaInL \"++x++\" \"++w++\"\\\\\"++f++\")\")\n",
    "                                 <$> tm2bdw x <*> nm2bdw w <*> form2bdw f\n",
    "form2bdw (BoxB (UpB x) b) = do (w,f) <- unbind b\n",
    "                               (\\x w f->\"(boxOut \"++x++\" \"++w++\"\\\\\"++f++\")\")\n",
    "                                 <$> tm2bdw x <*> nm2bdw w <*> form2bdw f\n",
    "form2bdw (BoxB (DnB x) b) = do (w,f) <- unbind b\n",
    "                               (\\x w f->\"(boxIn \"++x++\" \"++w++\"\\\\\"++f++\")\")\n",
    "                                 <$> tm2bdw x <*> nm2bdw w <*> form2bdw f\n",
    "form2bdw f@(DiaMatch [] _) = error (show f)\n",
    "form2bdw (DiaMatch cs f) =\n",
    "  foldr (\\(x,y) f -> \"(diaMatch \"++x++\" \"++y++\" \"++f++\")\")\n",
    "    <$> form2bdw f <*> sequence [(,)<$>tm2bdw x<*>tm2bdw y|(x,y)<-cs]\n",
    "form2bdw f@(BoxMatch [] _) = error (show f)\n",
    "form2bdw (BoxMatch cs f) =\n",
    "  foldr (\\(x,y) f -> \"(boxMatch \"++x++\" \"++y++\" \"++f++\")\")\n",
    "    <$> form2bdw f <*> sequence [(,)<$>tm2bdw x<*>tm2bdw y|(x,y)<-cs]"
   ]
  },
  {
   "cell_type": "code",
   "execution_count": 8,
   "metadata": {},
   "outputs": [],
   "source": [
    "x, y, z :: Nm\n",
    "w = s2n \"w\"\n",
    "x = s2n \"x\"\n",
    "y = s2n \"y\"\n",
    "z = s2n \"z\"\n",
    "\n",
    "q1 = taup q2\n",
    "q2 = (x.= y)(taup o)\n",
    "\n",
    "p1 = tau .+ taup tau\n",
    "p2 = inp x(z.\\out x z o) .| out x y o\n",
    "p3 = inp x(z.\\out x z o) .| out y x o\n",
    "\n",
    "axay = reverse [All x, All y]\n",
    "axny = reverse [All x, Nab y]\n",
    "nxay = reverse [Nab x, All y]\n",
    "nxny = reverse [Nab x, Nab y]\n",
    "axayazaw = reverse $ map All [x,y,z,w]\n",
    "\n",
    "printLateOneFrom p = do\n",
    "  putStrLn $ \"one step from: \" ++ render1line (pPrint p)\n",
    "  mapM_ pp (runFreshMT (IdS.one p) :: [(Act,Pr)])\n",
    "\n",
    "\n",
    "printOpenOneFrom nctx p = do\n",
    "  putStrLn $ \"one step from: \" ++ show (reverse nctx) ++ \" \"++ render1line (pPrint p)\n",
    "  mapM_ pp (runFreshMT (OpS.one nctx p) :: [([(Nm,Nm)],(Act,Pr))])\n",
    "\n",
    "showForest = drawForest . map toTreeString\n",
    "showTree = drawTree . toTreeString\n",
    "\n",
    "render1line = renderStyle style{mode=OneLineMode}\n",
    "\n",
    "toTreeString = foldTree (\\log ts -> Node (render1line . pPrint $ log) ts)\n",
    "\n",
    "axayaaab = map All [x,y,a,b]\n",
    "a = s2n \"a\"\n",
    "b = s2n \"b\"\n",
    "\n",
    "ppp1 = taup(out a a o .+out b b o) .+ (x.= y) (taup $ out a a o)\n",
    "qqq1 = taup(out a a o .+out b b o) .+ taup (out a a o)\n",
    "\n",
    "ppp2 = nu$x.\\out a x (inp a $y.\\tau)\n",
    "qqq2 = nu$x.\\out a x (inp a $y.\\(x.= y) tau)\n",
    "\n",
    "t_tt = tau .+ taup tau\n",
    "\n",
    "dosomething = do\n",
    "  (s,(l,p')) <- OpS.one nctx p\n",
    "  return $ subs nctx s p'\n",
    "  where\n",
    "  nctx = axayazaw\n",
    "  p =\n",
    "      (x.= w) . (z.= x) $\n",
    "      -- (x.= y) . (w.= z) $\n",
    "      taup (out x w o) .+ taup (out y z o)\n",
    "\n",
    "dosomething2 = do\n",
    "  (s,(l,bp')) <- OpS.oneb nctx p\n",
    "  return $ subs nctx s bp'\n",
    "  where\n",
    "    nctx = []\n",
    "    p = Nu$x.\\(inp x$y.\\taup o)\n",
    "\n",
    "dosomething3 = do\n",
    "  (s,(l,bp')) <- OpS.oneb nctx p\n",
    "  return $ subs nctx s bp'\n",
    "  where\n",
    "    nctx = [All a]\n",
    "    p = Nu$x.\\ out a x o\n",
    "\n",
    "dosomething4 = do\n",
    "  (s,(l,p')) <- OpS.one nctx p\n",
    "  return $ subs nctx s p'\n",
    "  where\n",
    "    nctx = [All a]\n",
    "    p = Nu$x.\\ out a x o\n",
    "\n",
    "dosomething5 = do\n",
    "  (s,(l,bp')) <- OpS.oneb nctx p\n",
    "  return $ subs nctx s bp'\n",
    "  where\n",
    "    nctx = [All a]\n",
    "    p = Nu$x.\\ out x a o"
   ]
  },
  {
   "cell_type": "markdown",
   "metadata": {},
   "source": [
    "### Late LTS"
   ]
  },
  {
   "cell_type": "code",
   "execution_count": 9,
   "metadata": {},
   "outputs": [
    {
     "data": {
      "text/plain": [
       "one step from: (TauP Null) `Plus` (TauP (TauP Null))\n",
       "(Tau, Null)\n",
       "(Tau, TauP Null)"
      ]
     },
     "metadata": {},
     "output_type": "display_data"
    }
   ],
   "source": [
    "printLateOneFrom p1"
   ]
  },
  {
   "cell_type": "code",
   "execution_count": 10,
   "metadata": {},
   "outputs": [
    {
     "data": {
      "text/plain": [
       "one step from: TauP (Match (Var x) (Var y) (TauP Null))\n",
       "(Tau, Match (Var x) (Var y) (TauP Null))"
      ]
     },
     "metadata": {},
     "output_type": "display_data"
    }
   ],
   "source": [
    "printLateOneFrom q1"
   ]
  },
  {
   "cell_type": "code",
   "execution_count": 11,
   "metadata": {},
   "outputs": [
    {
     "data": {
      "text/plain": [
       "one step from: Match (Var x) (Var y) (TauP Null)"
      ]
     },
     "metadata": {},
     "output_type": "display_data"
    }
   ],
   "source": [
    "printLateOneFrom q2"
   ]
  },
  {
   "cell_type": "code",
   "execution_count": 12,
   "metadata": {},
   "outputs": [
    {
     "data": {
      "text/plain": [
       "one step from: (In (Var x) (z.\\(Out (Var x) (Var z) Null))) `Par` (Out (Var x) (Var y) Null)\n",
       "(Up (Var x) (Var y),\n",
       " (In (Var x) (z.\\(Out (Var x) (Var z) Null))) `Par` Null)\n",
       "(Tau, (Out (Var x) (Var y) Null) `Par` Null)"
      ]
     },
     "metadata": {},
     "output_type": "display_data"
    }
   ],
   "source": [
    "printLateOneFrom p2"
   ]
  },
  {
   "cell_type": "code",
   "execution_count": 13,
   "metadata": {},
   "outputs": [
    {
     "data": {
      "text/plain": [
       "one step from: (In (Var x) (z.\\(Out (Var x) (Var z) Null))) `Par` (Out (Var y) (Var x) Null)\n",
       "(Up (Var y) (Var x),\n",
       " (In (Var x) (z.\\(Out (Var x) (Var z) Null))) `Par` Null)"
      ]
     },
     "metadata": {},
     "output_type": "display_data"
    }
   ],
   "source": [
    "printLateOneFrom p3"
   ]
  },
  {
   "cell_type": "markdown",
   "metadata": {},
   "source": [
    "### Open LTS"
   ]
  },
  {
   "cell_type": "code",
   "execution_count": 14,
   "metadata": {},
   "outputs": [
    {
     "data": {
      "text/plain": [
       "one step from: [All x,All y] (TauP Null) `Plus` (TauP (TauP Null))\n",
       "([], (Tau, Null))\n",
       "([], (Tau, TauP Null))"
      ]
     },
     "metadata": {},
     "output_type": "display_data"
    }
   ],
   "source": [
    "printOpenOneFrom axay p1"
   ]
  },
  {
   "cell_type": "code",
   "execution_count": 15,
   "metadata": {},
   "outputs": [
    {
     "data": {
      "text/plain": [
       "one step from: [All x,All y] TauP (Match (Var x) (Var y) (TauP Null))\n",
       "([], (Tau, Match (Var x) (Var y) (TauP Null)))"
      ]
     },
     "metadata": {},
     "output_type": "display_data"
    }
   ],
   "source": [
    "printOpenOneFrom axay q1"
   ]
  },
  {
   "cell_type": "code",
   "execution_count": 16,
   "metadata": {},
   "outputs": [
    {
     "data": {
      "text/plain": [
       "one step from: [All x,All y] Match (Var x) (Var y) (TauP Null)\n",
       "([(y, x)], (Tau, Null))"
      ]
     },
     "metadata": {},
     "output_type": "display_data"
    }
   ],
   "source": [
    "printOpenOneFrom axay q2"
   ]
  },
  {
   "cell_type": "code",
   "execution_count": 17,
   "metadata": {},
   "outputs": [
    {
     "data": {
      "text/plain": [
       "one step from: [All x,Nab y] Match (Var x) (Var y) (TauP Null)"
      ]
     },
     "metadata": {},
     "output_type": "display_data"
    }
   ],
   "source": [
    "printOpenOneFrom axny q2"
   ]
  },
  {
   "cell_type": "code",
   "execution_count": 18,
   "metadata": {},
   "outputs": [
    {
     "data": {
      "text/plain": [
       "one step from: [Nab x,All y] Match (Var x) (Var y) (TauP Null)\n",
       "([(y, x)], (Tau, Null))"
      ]
     },
     "metadata": {},
     "output_type": "display_data"
    }
   ],
   "source": [
    "printOpenOneFrom nxay q2"
   ]
  },
  {
   "cell_type": "code",
   "execution_count": 19,
   "metadata": {},
   "outputs": [
    {
     "data": {
      "text/plain": [
       "one step from: [Nab x,Nab y] Match (Var x) (Var y) (TauP Null)"
      ]
     },
     "metadata": {},
     "output_type": "display_data"
    }
   ],
   "source": [
    "printOpenOneFrom nxny q2"
   ]
  },
  {
   "cell_type": "code",
   "execution_count": 20,
   "metadata": {},
   "outputs": [
    {
     "data": {
      "text/plain": [
       "one step from: [All x,All y] (In (Var x) (z.\\(Out (Var x) (Var z) Null))) `Par` (Out (Var x) (Var y) Null)\n",
       "([],\n",
       " (Up (Var x) (Var y),\n",
       "  (In (Var x) (z.\\(Out (Var x) (Var z) Null))) `Par` Null))\n",
       "([], (Tau, (Out (Var x) (Var y) Null) `Par` Null))"
      ]
     },
     "metadata": {},
     "output_type": "display_data"
    }
   ],
   "source": [
    "printOpenOneFrom axay p2"
   ]
  },
  {
   "cell_type": "code",
   "execution_count": 21,
   "metadata": {},
   "outputs": [
    {
     "data": {
      "text/plain": [
       "one step from: [All x,All y] (In (Var x) (z.\\(Out (Var x) (Var z) Null))) `Par` (Out (Var y) (Var x) Null)\n",
       "([],\n",
       " (Up (Var y) (Var x),\n",
       "  (In (Var x) (z.\\(Out (Var x) (Var z) Null))) `Par` Null))\n",
       "([(y, x)], (Tau, (Out (Var x) (Var x) Null) `Par` Null))"
      ]
     },
     "metadata": {},
     "output_type": "display_data"
    }
   ],
   "source": [
    "printOpenOneFrom axay p3"
   ]
  },
  {
   "cell_type": "code",
   "execution_count": 22,
   "metadata": {},
   "outputs": [
    {
     "data": {
      "text/plain": [
       "[Out (Var x) (Var x) Null,Out (Var y) (Var x) Null]"
      ]
     },
     "metadata": {},
     "output_type": "display_data"
    }
   ],
   "source": [
    "runFreshMT dosomething :: [Pr]"
   ]
  },
  {
   "cell_type": "code",
   "execution_count": 23,
   "metadata": {},
   "outputs": [
    {
     "data": {
      "text/plain": [
       "False"
      ]
     },
     "metadata": {},
     "output_type": "display_data"
    },
    {
     "data": {
      "text/plain": [
       "Left (One [All y, All x] [] Tau Null)\n",
       "|\n",
       "`- Right (One [All y, All x] [] Tau (Match (Var x) (Var y) (TauP Null)))\n",
       "   |\n",
       "   `- Right (One [All y, All x] [(y, x)] Tau Null)\n",
       "\n",
       "Left (One [All y, All x] [] Tau (TauP Null))\n",
       "|\n",
       "`- Right (One [All y, All x] [] Tau (Match (Var x) (Var y) (TauP Null)))\n",
       "   |\n",
       "   +- Left (One [All y, All x] [] Tau Null)\n",
       "   |\n",
       "   `- Right (One [All y, All x] [(y, x)] Tau Null)\n",
       "      |\n",
       "      `- Left (One [All y, All x] [(y, x)] Tau Null)\n",
       "\n",
       "Right (One [All y, All x] [] Tau (Match (Var x) (Var y) (TauP Null)))\n",
       "|\n",
       "+- Left (One [All y, All x] [] Tau Null)\n",
       "|  |\n",
       "|  `- Right (One [All y, All x] [(y, x)] Tau Null)\n",
       "|\n",
       "`- Left (One [All y, All x] [] Tau (TauP Null))\n",
       "   |\n",
       "   +- Left (One [All y, All x] [] Tau Null)\n",
       "   |\n",
       "   `- Right (One [All y, All x] [(y, x)] Tau Null)\n",
       "      |\n",
       "      `- Left (One [All y, All x] [(y, x)] Tau Null)"
      ]
     },
     "metadata": {},
     "output_type": "display_data"
    },
    {
     "data": {
      "text/plain": [
       "(Dia Tau (Box Tau FF),Box Tau (BoxMatch [(Var y,Var x)] (Dia Tau TT)))\n",
       "(Dia Tau (Dia Tau TT),Box Tau (Box Tau (DiaMatch [(Var y,Var x)] TT)))\n",
       "(Box Tau (Disj [Box Tau FF,Dia Tau TT]),Dia Tau (Conj [BoxMatch [(Var y,Var x)] (Dia Tau TT),Box Tau (DiaMatch [(Var y,Var x)] TT)]))"
      ]
     },
     "metadata": {},
     "output_type": "display_data"
    }
   ],
   "source": [
    "bisim axay (tau .+ taup tau) (TauP $ (x.= y)tau)\n",
    "\n",
    "putStrLn . showForest $ bisim' axay (tau .+ taup tau) (TauP $ (x.= y) tau)\n",
    "\n",
    "mapM_ print . forest2df $ bisim' axay (tau .+ taup tau) (taup $ (x.= y) tau)"
   ]
  },
  {
   "cell_type": "code",
   "execution_count": 24,
   "metadata": {},
   "outputs": [
    {
     "data": {
      "text/plain": [
       "False"
      ]
     },
     "metadata": {},
     "output_type": "display_data"
    },
    {
     "data": {
      "text/plain": [
       "Left (One [All y, All x] [] Tau (Match (Var x) (Var y) (TauP Null)))\n",
       "|\n",
       "+- Right (One [All y, All x] [] Tau Null)\n",
       "|  |\n",
       "|  `- Left (One [All y, All x] [(y, x)] Tau Null)\n",
       "|\n",
       "`- Right (One [All y, All x] [] Tau (TauP Null))\n",
       "   |\n",
       "   +- Left (One [All y, All x] [(y, x)] Tau Null)\n",
       "   |  |\n",
       "   |  `- Right (One [All y, All x] [(y, x)] Tau Null)\n",
       "   |\n",
       "   `- Right (One [All y, All x] [] Tau Null)\n",
       "\n",
       "Right (One [All y, All x] [] Tau Null)\n",
       "|\n",
       "`- Left (One [All y, All x] [] Tau (Match (Var x) (Var y) (TauP Null)))\n",
       "   |\n",
       "   `- Left (One [All y, All x] [(y, x)] Tau Null)\n",
       "\n",
       "Right (One [All y, All x] [] Tau (TauP Null))\n",
       "|\n",
       "`- Left (One [All y, All x] [] Tau (Match (Var x) (Var y) (TauP Null)))\n",
       "   |\n",
       "   +- Left (One [All y, All x] [(y, x)] Tau Null)\n",
       "   |  |\n",
       "   |  `- Right (One [All y, All x] [(y, x)] Tau Null)\n",
       "   |\n",
       "   `- Right (One [All y, All x] [] Tau Null)"
      ]
     },
     "metadata": {},
     "output_type": "display_data"
    },
    {
     "data": {
      "text/plain": [
       "(Dia Tau (Conj[BoxMatch [(Var y, Var x)] (Dia Tau TT),\n",
       "               Box Tau (DiaMatch [(Var y, Var x)] TT)]),\n",
       " Box Tau (Disj[Box Tau FF, Dia Tau TT]))\n",
       "(Box Tau (BoxMatch [(Var y, Var x)] (Dia Tau TT)),\n",
       " Dia Tau (Box Tau FF))\n",
       "(Box Tau (Box Tau (DiaMatch [(Var y, Var x)] TT)),\n",
       " Dia Tau (Dia Tau TT))"
      ]
     },
     "metadata": {},
     "output_type": "display_data"
    }
   ],
   "source": [
    "bisim axay (taup $ (x.= y) tau) (tau .+ taup tau)\n",
    "putStrLn . showForest $ bisim' axay (taup $ (x.= y) tau) (tau .+ taup tau)\n",
    "mapM_ pp . forest2df $ bisim' axay (taup $ (x.= y)tau) (tau .+ taup tau)"
   ]
  },
  {
   "cell_type": "code",
   "execution_count": 25,
   "metadata": {},
   "outputs": [
    {
     "data": {
      "text/plain": [
       "False"
      ]
     },
     "metadata": {},
     "output_type": "display_data"
    },
    {
     "data": {
      "text/plain": [
       "Left (One [All y, All x] [] Tau (Match (Var x) (Var y) (TauP Null)))\n",
       "|\n",
       "+- Right (One [All y, All x] [] Tau Null)\n",
       "|  |\n",
       "|  `- Left (One [All y, All x] [(y, x)] Tau Null)\n",
       "|\n",
       "`- Right (One [All y, All x] [] Tau (TauP Null))\n",
       "   |\n",
       "   +- Left (One [All y, All x] [(y, x)] Tau Null)\n",
       "   |  |\n",
       "   |  `- Right (One [All y, All x] [(y, x)] Tau Null)\n",
       "   |\n",
       "   `- Right (One [All y, All x] [] Tau Null)\n",
       "\n",
       "Left (One [All y, All x] [] Tau Null)\n",
       "|\n",
       "+- Right (One [All y, All x] [] Tau Null)\n",
       "|\n",
       "`- Right (One [All y, All x] [] Tau (TauP Null))\n",
       "   |\n",
       "   `- Right (One [All y, All x] [] Tau Null)\n",
       "\n",
       "Left (One [All y, All x] [] Tau (TauP Null))\n",
       "|\n",
       "+- Right (One [All y, All x] [] Tau Null)\n",
       "|  |\n",
       "|  `- Left (One [All y, All x] [] Tau Null)\n",
       "|\n",
       "`- Right (One [All y, All x] [] Tau (TauP Null))\n",
       "   |\n",
       "   +- Left (One [All y, All x] [] Tau Null)\n",
       "   |  |\n",
       "   |  `- Right (One [All y, All x] [] Tau Null)\n",
       "   |\n",
       "   `- Right (One [All y, All x] [] Tau Null)\n",
       "      |\n",
       "      `- Left (One [All y, All x] [] Tau Null)\n",
       "\n",
       "Right (One [All y, All x] [] Tau Null)\n",
       "|\n",
       "+- Left (One [All y, All x] [] Tau (Match (Var x) (Var y) (TauP Null)))\n",
       "|  |\n",
       "|  `- Left (One [All y, All x] [(y, x)] Tau Null)\n",
       "|\n",
       "+- Left (One [All y, All x] [] Tau Null)\n",
       "|\n",
       "`- Left (One [All y, All x] [] Tau (TauP Null))\n",
       "   |\n",
       "   `- Left (One [All y, All x] [] Tau Null)\n",
       "\n",
       "Right (One [All y, All x] [] Tau (TauP Null))\n",
       "|\n",
       "+- Left (One [All y, All x] [] Tau (Match (Var x) (Var y) (TauP Null)))\n",
       "|  |\n",
       "|  +- Left (One [All y, All x] [(y, x)] Tau Null)\n",
       "|  |  |\n",
       "|  |  `- Right (One [All y, All x] [(y, x)] Tau Null)\n",
       "|  |\n",
       "|  `- Right (One [All y, All x] [] Tau Null)\n",
       "|\n",
       "+- Left (One [All y, All x] [] Tau Null)\n",
       "|  |\n",
       "|  `- Right (One [All y, All x] [] Tau Null)\n",
       "|\n",
       "`- Left (One [All y, All x] [] Tau (TauP Null))\n",
       "   |\n",
       "   +- Left (One [All y, All x] [] Tau Null)\n",
       "   |  |\n",
       "   |  `- Right (One [All y, All x] [] Tau Null)\n",
       "   |\n",
       "   `- Right (One [All y, All x] [] Tau Null)\n",
       "      |\n",
       "      `- Left (One [All y, All x] [] Tau Null)"
      ]
     },
     "metadata": {},
     "output_type": "display_data"
    },
    {
     "data": {
      "text/plain": [
       "(Dia Tau (Conj[BoxMatch [(Var y, Var x)] (Dia Tau TT),\n",
       "               Box Tau (DiaMatch [(Var y, Var x)] TT)]),\n",
       " Box Tau (Disj[Box Tau FF, Dia Tau TT]))"
      ]
     },
     "metadata": {},
     "output_type": "display_data"
    }
   ],
   "source": [
    "print $ bisim axay (taup ((x.= y) tau) .+ t_tt) t_tt\n",
    "putStrLn . showForest $ bisim' axay (taup ((x.= y) tau) .+ t_tt) t_tt\n",
    "mapM_ pp . forest2df $ bisim' axay (taup ((x.= y) tau) .+ t_tt) t_tt"
   ]
  },
  {
   "cell_type": "code",
   "execution_count": 26,
   "metadata": {},
   "outputs": [
    {
     "data": {
      "text/plain": [
       "Left (One [All y, All x] [] Tau Null)\n",
       "|\n",
       "`- Right (One [All y, All x] [] Tau (Match (Var x) (Var y) (TauP Null)))\n",
       "   |\n",
       "   `- Right (One [All y, All x] [(y, x)] Tau Null)\n",
       "\n",
       "Left (One [All y, All x] [] Tau (TauP Null))\n",
       "|\n",
       "`- Right (One [All y, All x] [] Tau (Match (Var x) (Var y) (TauP Null)))\n",
       "   |\n",
       "   +- Left (One [All y, All x] [] Tau Null)\n",
       "   |\n",
       "   `- Right (One [All y, All x] [(y, x)] Tau Null)\n",
       "      |\n",
       "      `- Left (One [All y, All x] [(y, x)] Tau Null)\n",
       "\n",
       "Right (One [All y, All x] [] Tau (Match (Var x) (Var y) (TauP Null)))\n",
       "|\n",
       "+- Left (One [All y, All x] [] Tau Null)\n",
       "|  |\n",
       "|  `- Right (One [All y, All x] [(y, x)] Tau Null)\n",
       "|\n",
       "`- Left (One [All y, All x] [] Tau (TauP Null))\n",
       "   |\n",
       "   +- Left (One [All y, All x] [] Tau Null)\n",
       "   |\n",
       "   `- Right (One [All y, All x] [(y, x)] Tau Null)\n",
       "      |\n",
       "      `- Left (One [All y, All x] [(y, x)] Tau Null)"
      ]
     },
     "metadata": {},
     "output_type": "display_data"
    },
    {
     "data": {
      "text/plain": [
       "(Dia Tau (Box Tau FF),\n",
       " Box Tau (BoxMatch [(Var y, Var x)] (Dia Tau TT)))\n",
       "(Dia Tau (Dia Tau TT),\n",
       " Box Tau (Box Tau (DiaMatch [(Var y, Var x)] TT)))\n",
       "(Box Tau (Disj[Box Tau FF, Dia Tau TT]),\n",
       " Dia Tau (Conj[BoxMatch [(Var y, Var x)] (Dia Tau TT),\n",
       "               Box Tau (DiaMatch [(Var y, Var x)] TT)]))"
      ]
     },
     "metadata": {},
     "output_type": "display_data"
    }
   ],
   "source": [
    "  putStrLn . showForest $ bisim' axay (tau .+ taup tau) (taup $ (x.= y) tau)\n",
    "  mapM_ pp . forest2df $ bisim' axay (tau .+ taup tau) (taup $ (x.= y) tau)"
   ]
  },
  {
   "cell_type": "code",
   "execution_count": 27,
   "metadata": {},
   "outputs": [
    {
     "data": {
      "text/plain": [
       "Left (OneB [All x] [] (DnB (Var x)) (z.\\((TauP Null) `Plus` (TauP Null))))\n",
       "|\n",
       "`- Right (OneB [All x] [] (DnB (Var x)) (z.\\((TauP Null) `Plus` (Out (Var z) (Var x) Null))))\n",
       "   |\n",
       "   +- Left (One [All z1, All x] [] Tau Null)\n",
       "   |  |\n",
       "   |  `- Right (One [All z1, All x] [] Tau Null)\n",
       "   |\n",
       "   +- Left (One [All z1, All x] [] Tau Null)\n",
       "   |  |\n",
       "   |  `- Right (One [All z1, All x] [] Tau Null)\n",
       "   |\n",
       "   +- Right (One [All z1, All x] [] Tau Null)\n",
       "   |  |\n",
       "   |  +- Left (One [All z1, All x] [] Tau Null)\n",
       "   |  |\n",
       "   |  `- Left (One [All z1, All x] [] Tau Null)\n",
       "   |\n",
       "   `- Right (One [All z1, All x] [] (Up (Var z1) (Var x)) Null)\n",
       "\n",
       "Right (OneB [All x] [] (DnB (Var x)) (z.\\((TauP Null) `Plus` (Out (Var z) (Var x) Null))))\n",
       "|\n",
       "`- Left (OneB [All x] [] (DnB (Var x)) (z.\\((TauP Null) `Plus` (TauP Null))))\n",
       "   |\n",
       "   +- Left (One [All z1, All x] [] Tau Null)\n",
       "   |  |\n",
       "   |  `- Right (One [All z1, All x] [] Tau Null)\n",
       "   |\n",
       "   +- Left (One [All z1, All x] [] Tau Null)\n",
       "   |  |\n",
       "   |  `- Right (One [All z1, All x] [] Tau Null)\n",
       "   |\n",
       "   +- Right (One [All z1, All x] [] Tau Null)\n",
       "   |  |\n",
       "   |  +- Left (One [All z1, All x] [] Tau Null)\n",
       "   |  |\n",
       "   |  `- Left (One [All z1, All x] [] Tau Null)\n",
       "   |\n",
       "   `- Right (One [All z1, All x] [] (Up (Var z1) (Var x)) Null)"
      ]
     },
     "metadata": {},
     "output_type": "display_data"
    },
    {
     "data": {
      "text/plain": [
       "(DiaB (DnB (Var x)) (z.\\(Box (Up (Var z) (Var x)) FF)),\n",
       " BoxB (DnB (Var x)) (z.\\(Dia (Up (Var z) (Var x)) TT)))\n",
       "(BoxB (DnB (Var x)) (z.\\(Box (Up (Var z) (Var x)) FF)),\n",
       " DiaB (DnB (Var x)) (z.\\(Dia (Up (Var z) (Var x)) TT)))"
      ]
     },
     "metadata": {},
     "output_type": "display_data"
    }
   ],
   "source": [
    "  putStrLn . showForest $ bisim' [All x] (inp x$z.\\tau .+ tau) (inp x$z.\\tau .+ out z x o)\n",
    "  mapM_ pp . forest2df $ bisim' [All x] (inp x$z.\\tau .+ tau) (inp x$z.\\tau .+ out z x o)"
   ]
  },
  {
   "cell_type": "code",
   "execution_count": 28,
   "metadata": {},
   "outputs": [
    {
     "data": {
      "text/plain": [
       "Left (One [All w, All z, All y, All x] [(w, z)] Tau Null)\n",
       "\n",
       "Right (One [All w, All z, All y, All x] [(y, x)] Tau Null)"
      ]
     },
     "metadata": {},
     "output_type": "display_data"
    },
    {
     "data": {
      "text/plain": [
       "(BoxMatch [(Var w, Var z)] (Dia Tau TT),\n",
       " Box Tau (DiaMatch [(Var y, Var x)] TT))\n",
       "(Box Tau (DiaMatch [(Var w, Var z)] TT),\n",
       " BoxMatch [(Var y, Var x)] (Dia Tau TT))"
      ]
     },
     "metadata": {},
     "output_type": "display_data"
    }
   ],
   "source": [
    "putStrLn . showForest $ bisim' axayazaw ((z.= w) tau) ((x.= y) tau)\n",
    "mapM_ pp . forest2df $ bisim' axayazaw ((z.= w) tau) ((x.= y) tau)"
   ]
  },
  {
   "cell_type": "code",
   "execution_count": 29,
   "metadata": {},
   "outputs": [
    {
     "data": {
      "text/plain": [
       "False"
      ]
     },
     "metadata": {},
     "output_type": "display_data"
    },
    {
     "data": {
      "text/plain": [
       "Left (One [All x, All y, All a, All b] [] Tau ((Out (Var a) (Var a) Null) `Plus` (Out (Var b) (Var b) Null)))\n",
       "|\n",
       "+- Right (One [All x, All y, All a, All b] [] Tau ((Out (Var a) (Var a) Null) `Plus` (Out (Var b) (Var b) Null)))\n",
       "|  |\n",
       "|  +- Left (One [All x, All y, All a, All b] [] (Up (Var a) (Var a)) Null)\n",
       "|  |  |\n",
       "|  |  `- Right (One [All x, All y, All a, All b] [] (Up (Var a) (Var a)) Null)\n",
       "|  |\n",
       "|  +- Left (One [All x, All y, All a, All b] [] (Up (Var b) (Var b)) Null)\n",
       "|  |  |\n",
       "|  |  `- Right (One [All x, All y, All a, All b] [] (Up (Var b) (Var b)) Null)\n",
       "|  |\n",
       "|  +- Right (One [All x, All y, All a, All b] [] (Up (Var a) (Var a)) Null)\n",
       "|  |  |\n",
       "|  |  `- Left (One [All x, All y, All a, All b] [] (Up (Var a) (Var a)) Null)\n",
       "|  |\n",
       "|  `- Right (One [All x, All y, All a, All b] [] (Up (Var b) (Var b)) Null)\n",
       "|     |\n",
       "|     `- Left (One [All x, All y, All a, All b] [] (Up (Var b) (Var b)) Null)\n",
       "|\n",
       "`- Right (One [All x, All y, All a, All b] [] Tau (Out (Var a) (Var a) Null))\n",
       "   |\n",
       "   +- Left (One [All x, All y, All a, All b] [] (Up (Var a) (Var a)) Null)\n",
       "   |  |\n",
       "   |  `- Right (One [All x, All y, All a, All b] [] (Up (Var a) (Var a)) Null)\n",
       "   |\n",
       "   +- Left (One [All x, All y, All a, All b] [] (Up (Var b) (Var b)) Null)\n",
       "   |\n",
       "   `- Right (One [All x, All y, All a, All b] [] (Up (Var a) (Var a)) Null)\n",
       "      |\n",
       "      `- Left (One [All x, All y, All a, All b] [] (Up (Var a) (Var a)) Null)\n",
       "\n",
       "Left (One [All x, All y, All a, All b] [(x, y)] Tau (Out (Var a) (Var a) Null))\n",
       "|\n",
       "+- Right (One [All x, All y, All a, All b] [(x, y)] Tau ((Out (Var a) (Var a) Null) `Plus` (Out (Var b) (Var b) Null)))\n",
       "|  |\n",
       "|  +- Left (One [All x, All y, All a, All b] [] (Up (Var a) (Var a)) Null)\n",
       "|  |  |\n",
       "|  |  `- Right (One [All x, All y, All a, All b] [] (Up (Var a) (Var a)) Null)\n",
       "|  |\n",
       "|  +- Right (One [All x, All y, All a, All b] [] (Up (Var a) (Var a)) Null)\n",
       "|  |  |\n",
       "|  |  `- Left (One [All x, All y, All a, All b] [] (Up (Var a) (Var a)) Null)\n",
       "|  |\n",
       "|  `- Right (One [All x, All y, All a, All b] [] (Up (Var b) (Var b)) Null)\n",
       "|\n",
       "`- Right (One [All x, All y, All a, All b] [(x, y)] Tau (Out (Var a) (Var a) Null))\n",
       "   |\n",
       "   +- Left (One [All x, All y, All a, All b] [] (Up (Var a) (Var a)) Null)\n",
       "   |  |\n",
       "   |  `- Right (One [All x, All y, All a, All b] [] (Up (Var a) (Var a)) Null)\n",
       "   |\n",
       "   `- Right (One [All x, All y, All a, All b] [] (Up (Var a) (Var a)) Null)\n",
       "      |\n",
       "      `- Left (One [All x, All y, All a, All b] [] (Up (Var a) (Var a)) Null)\n",
       "\n",
       "Right (One [All x, All y, All a, All b] [] Tau ((Out (Var a) (Var a) Null) `Plus` (Out (Var b) (Var b) Null)))\n",
       "|\n",
       "`- Left (One [All x, All y, All a, All b] [] Tau ((Out (Var a) (Var a) Null) `Plus` (Out (Var b) (Var b) Null)))\n",
       "   |\n",
       "   +- Left (One [All x, All y, All a, All b] [] (Up (Var a) (Var a)) Null)\n",
       "   |  |\n",
       "   |  `- Right (One [All x, All y, All a, All b] [] (Up (Var a) (Var a)) Null)\n",
       "   |\n",
       "   +- Left (One [All x, All y, All a, All b] [] (Up (Var b) (Var b)) Null)\n",
       "   |  |\n",
       "   |  `- Right (One [All x, All y, All a, All b] [] (Up (Var b) (Var b)) Null)\n",
       "   |\n",
       "   +- Right (One [All x, All y, All a, All b] [] (Up (Var a) (Var a)) Null)\n",
       "   |  |\n",
       "   |  `- Left (One [All x, All y, All a, All b] [] (Up (Var a) (Var a)) Null)\n",
       "   |\n",
       "   `- Right (One [All x, All y, All a, All b] [] (Up (Var b) (Var b)) Null)\n",
       "      |\n",
       "      `- Left (One [All x, All y, All a, All b] [] (Up (Var b) (Var b)) Null)\n",
       "\n",
       "Right (One [All x, All y, All a, All b] [] Tau (Out (Var a) (Var a) Null))\n",
       "|\n",
       "`- Left (One [All x, All y, All a, All b] [] Tau ((Out (Var a) (Var a) Null) `Plus` (Out (Var b) (Var b) Null)))\n",
       "   |\n",
       "   +- Left (One [All x, All y, All a, All b] [] (Up (Var a) (Var a)) Null)\n",
       "   |  |\n",
       "   |  `- Right (One [All x, All y, All a, All b] [] (Up (Var a) (Var a)) Null)\n",
       "   |\n",
       "   +- Left (One [All x, All y, All a, All b] [] (Up (Var b) (Var b)) Null)\n",
       "   |\n",
       "   `- Right (One [All x, All y, All a, All b] [] (Up (Var a) (Var a)) Null)\n",
       "      |\n",
       "      `- Left (One [All x, All y, All a, All b] [] (Up (Var a) (Var a)) Null)"
      ]
     },
     "metadata": {},
     "output_type": "display_data"
    },
    {
     "data": {
      "text/plain": [
       "(Box Tau (Disj[DiaMatch [(Var x, Var y)] TT,\n",
       "               Dia (Up (Var b) (Var b)) TT]),\n",
       " Dia Tau (Box (Up (Var b) (Var b)) FF))"
      ]
     },
     "metadata": {},
     "output_type": "display_data"
    }
   ],
   "source": [
    "bisim axayaaab ppp1 qqq1\n",
    "putStrLn . showForest $ bisim' axayaaab ppp1 qqq1\n",
    "mapM_ pp . forest2df $ bisim' axayaaab ppp1 qqq1"
   ]
  },
  {
   "cell_type": "code",
   "execution_count": 30,
   "metadata": {},
   "outputs": [
    {
     "data": {
      "text/plain": [
       "False"
      ]
     },
     "metadata": {},
     "output_type": "display_data"
    },
    {
     "data": {
      "text/plain": [
       "Left (OneB [All a] [] (UpB (Var a)) (x.\\(In (Var a) (y.\\(TauP Null)))))\n",
       "|\n",
       "`- Right (OneB [All a] [] (UpB (Var a)) (x.\\(In (Var a) (y.\\(Match (Var x) (Var y) (TauP Null))))))\n",
       "   |\n",
       "   +- Left (OneB [Nab x1, All a] [] (DnB (Var a)) (y.\\(TauP Null)))\n",
       "   |  |\n",
       "   |  `- Right (OneB [Nab x1, All a] [] (DnB (Var a)) (y.\\(Match (Var x1) (Var y) (TauP Null))))\n",
       "   |     |\n",
       "   |     +- Left (One [All y2, Nab x1, All a] [] Tau Null)\n",
       "   |     |\n",
       "   |     `- Right (One [All y2, Nab x1, All a] [(x1, a)] Tau Null)\n",
       "   |        |\n",
       "   |        `- Left (One [All y2, Nab x1, All a] [(x1, a)] Tau Null)\n",
       "   |\n",
       "   `- Right (OneB [Nab x1, All a] [] (DnB (Var a)) (y.\\(Match (Var x1) (Var y) (TauP Null))))\n",
       "      |\n",
       "      `- Left (OneB [Nab x1, All a] [] (DnB (Var a)) (y.\\(TauP Null)))\n",
       "         |\n",
       "         +- Left (One [All y2, Nab x1, All a] [] Tau Null)\n",
       "         |\n",
       "         `- Right (One [All y2, Nab x1, All a] [(x1, a)] Tau Null)\n",
       "            |\n",
       "            `- Left (One [All y2, Nab x1, All a] [(x1, a)] Tau Null)\n",
       "\n",
       "Right (OneB [All a] [] (UpB (Var a)) (x.\\(In (Var a) (y.\\(Match (Var x) (Var y) (TauP Null))))))\n",
       "|\n",
       "`- Left (OneB [All a] [] (UpB (Var a)) (x.\\(In (Var a) (y.\\(TauP Null)))))\n",
       "   |\n",
       "   +- Left (OneB [Nab x1, All a] [] (DnB (Var a)) (y.\\(TauP Null)))\n",
       "   |  |\n",
       "   |  `- Right (OneB [Nab x1, All a] [] (DnB (Var a)) (y.\\(Match (Var x1) (Var y) (TauP Null))))\n",
       "   |     |\n",
       "   |     +- Left (One [All y2, Nab x1, All a] [] Tau Null)\n",
       "   |     |\n",
       "   |     `- Right (One [All y2, Nab x1, All a] [(x1, a)] Tau Null)\n",
       "   |        |\n",
       "   |        `- Left (One [All y2, Nab x1, All a] [(x1, a)] Tau Null)\n",
       "   |\n",
       "   `- Right (OneB [Nab x1, All a] [] (DnB (Var a)) (y.\\(Match (Var x1) (Var y) (TauP Null))))\n",
       "      |\n",
       "      `- Left (OneB [Nab x1, All a] [] (DnB (Var a)) (y.\\(TauP Null)))\n",
       "         |\n",
       "         +- Left (One [All y2, Nab x1, All a] [] Tau Null)\n",
       "         |\n",
       "         `- Right (One [All y2, Nab x1, All a] [(x1, a)] Tau Null)\n",
       "            |\n",
       "            `- Left (One [All y2, Nab x1, All a] [(x1, a)] Tau Null)"
      ]
     },
     "metadata": {},
     "output_type": "display_data"
    },
    {
     "data": {
      "text/plain": [
       "(DiaB (UpB (Var a)) (x.\\(DiaB (DnB (Var a)) (y.\\(Dia Tau TT)))),\n",
       " BoxB (UpB (Var a)) (x.\\(BoxB (DnB (Var a)) (y.\\(Box Tau (DiaMatch [(Var x,\n",
       "                                                                     Var a)] TT))))))\n",
       "(DiaB (UpB (Var a)) (x.\\(BoxB (DnB (Var a)) (y.\\(Dia Tau TT)))),\n",
       " BoxB (UpB (Var a)) (x.\\(DiaB (DnB (Var a)) (y.\\(Box Tau (DiaMatch [(Var x,\n",
       "                                                                     Var a)] TT))))))\n",
       "(BoxB (UpB (Var a)) (x.\\(DiaB (DnB (Var a)) (y.\\(Dia Tau TT)))),\n",
       " DiaB (UpB (Var a)) (x.\\(BoxB (DnB (Var a)) (y.\\(Box Tau (DiaMatch [(Var x,\n",
       "                                                                     Var a)] TT))))))\n",
       "(BoxB (UpB (Var a)) (x.\\(BoxB (DnB (Var a)) (y.\\(Dia Tau TT)))),\n",
       " DiaB (UpB (Var a)) (x.\\(DiaB (DnB (Var a)) (y.\\(Box Tau (DiaMatch [(Var x,\n",
       "                                                                     Var a)] TT))))))"
      ]
     },
     "metadata": {},
     "output_type": "display_data"
    }
   ],
   "source": [
    "bisim [All a] ppp2 qqq2\n",
    "putStrLn . showForest $ bisim' [All a] ppp2 qqq2\n",
    "mapM_ pp . forest2df $ bisim' [All a] ppp2 qqq2"
   ]
  },
  {
   "cell_type": "code",
   "execution_count": 31,
   "metadata": {},
   "outputs": [
    {
     "data": {
      "text/plain": [
       "[]"
      ]
     },
     "metadata": {},
     "output_type": "display_data"
    },
    {
     "data": {
      "text/plain": [
       "[x.\\Null]"
      ]
     },
     "metadata": {},
     "output_type": "display_data"
    },
    {
     "data": {
      "text/plain": [
       "[]"
      ]
     },
     "metadata": {},
     "output_type": "display_data"
    },
    {
     "data": {
      "text/plain": [
       "[]"
      ]
     },
     "metadata": {},
     "output_type": "display_data"
    }
   ],
   "source": [
    "pp (runFreshMT dosomething2 :: [PrB])\n",
    "pp (runFreshMT dosomething3 :: [PrB])\n",
    "pp (runFreshMT dosomething4 :: [Pr])\n",
    "pp (runFreshMT dosomething5 :: [PrB])"
   ]
  },
  {
   "cell_type": "code",
   "execution_count": 32,
   "metadata": {},
   "outputs": [
    {
     "data": {
      "text/plain": [
       "False"
      ]
     },
     "metadata": {},
     "output_type": "display_data"
    },
    {
     "data": {
      "text/plain": [
       "Left (One [All y, All x] [(y, x)] Tau (TauP Null))\n",
       "|\n",
       "+- Right (One [All y, All x] [(y, x)] Tau (TauP Null))\n",
       "|  |\n",
       "|  +- Left (One [All y, All x] [] Tau Null)\n",
       "|  |  |\n",
       "|  |  `- Right (One [All y, All x] [] Tau Null)\n",
       "|  |\n",
       "|  `- Right (One [All y, All x] [] Tau Null)\n",
       "|     |\n",
       "|     `- Left (One [All y, All x] [] Tau Null)\n",
       "|\n",
       "`- Right (One [All y, All x] [(y, x)] Tau Null)\n",
       "   |\n",
       "   `- Left (One [All y, All x] [] Tau Null)\n",
       "\n",
       "Left (One [All y, All x] [] Tau Null)\n",
       "|\n",
       "+- Right (One [All y, All x] [] Tau (TauP Null))\n",
       "|  |\n",
       "|  `- Right (One [All y, All x] [] Tau Null)\n",
       "|\n",
       "`- Right (One [All y, All x] [] Tau Null)\n",
       "\n",
       "Right (One [All y, All x] [] Tau (TauP Null))\n",
       "|\n",
       "`- Left (One [All y, All x] [] Tau Null)\n",
       "   |\n",
       "   `- Right (One [All y, All x] [] Tau Null)\n",
       "\n",
       "Right (One [All y, All x] [] Tau Null)\n",
       "|\n",
       "`- Left (One [All y, All x] [] Tau Null)"
      ]
     },
     "metadata": {},
     "output_type": "display_data"
    },
    {
     "data": {
      "text/plain": [
       "(Box Tau (Disj[DiaMatch [(Var y, Var x)] TT, Box Tau FF]),\n",
       " Dia Tau (Dia Tau TT))"
      ]
     },
     "metadata": {},
     "output_type": "display_data"
    }
   ],
   "source": [
    "bisim axay ((x.= y) (taup tau) .+ tau) (taup tau .+ tau)\n",
    "putStrLn . showForest $ bisim' axay ((x.= y) (taup tau) .+ tau) (taup tau .+ tau)\n",
    "mapM_ pp . forest2df $ bisim' axay ((x.= y) (taup tau) .+ tau) (taup tau .+ tau)"
   ]
  },
  {
   "cell_type": "code",
   "execution_count": 33,
   "metadata": {},
   "outputs": [
    {
     "data": {
      "text/plain": [
       "False"
      ]
     },
     "metadata": {},
     "output_type": "display_data"
    },
    {
     "data": {
      "text/plain": [
       "Left (One [All y, All x] [] Tau (Match (Var x) (Var y) (TauP Null)))\n",
       "|\n",
       "+- Right (One [All y, All x] [] Tau Null)\n",
       "|  |\n",
       "|  `- Left (One [All y, All x] [(y, x)] Tau Null)\n",
       "|\n",
       "`- Right (One [All y, All x] [] Tau (TauP Null))\n",
       "   |\n",
       "   +- Left (One [All y, All x] [(y, x)] Tau Null)\n",
       "   |  |\n",
       "   |  `- Right (One [All y, All x] [(y, x)] Tau Null)\n",
       "   |\n",
       "   `- Right (One [All y, All x] [] Tau Null)\n",
       "\n",
       "Left (One [All y, All x] [] Tau Null)\n",
       "|\n",
       "+- Right (One [All y, All x] [] Tau Null)\n",
       "|\n",
       "`- Right (One [All y, All x] [] Tau (TauP Null))\n",
       "   |\n",
       "   `- Right (One [All y, All x] [] Tau Null)\n",
       "\n",
       "Left (One [All y, All x] [] Tau (TauP Null))\n",
       "|\n",
       "+- Right (One [All y, All x] [] Tau Null)\n",
       "|  |\n",
       "|  `- Left (One [All y, All x] [] Tau Null)\n",
       "|\n",
       "`- Right (One [All y, All x] [] Tau (TauP Null))\n",
       "   |\n",
       "   +- Left (One [All y, All x] [] Tau Null)\n",
       "   |  |\n",
       "   |  `- Right (One [All y, All x] [] Tau Null)\n",
       "   |\n",
       "   `- Right (One [All y, All x] [] Tau Null)\n",
       "      |\n",
       "      `- Left (One [All y, All x] [] Tau Null)\n",
       "\n",
       "Right (One [All y, All x] [] Tau Null)\n",
       "|\n",
       "+- Left (One [All y, All x] [] Tau (Match (Var x) (Var y) (TauP Null)))\n",
       "|  |\n",
       "|  `- Left (One [All y, All x] [(y, x)] Tau Null)\n",
       "|\n",
       "+- Left (One [All y, All x] [] Tau Null)\n",
       "|\n",
       "`- Left (One [All y, All x] [] Tau (TauP Null))\n",
       "   |\n",
       "   `- Left (One [All y, All x] [] Tau Null)\n",
       "\n",
       "Right (One [All y, All x] [] Tau (TauP Null))\n",
       "|\n",
       "+- Left (One [All y, All x] [] Tau (Match (Var x) (Var y) (TauP Null)))\n",
       "|  |\n",
       "|  +- Left (One [All y, All x] [(y, x)] Tau Null)\n",
       "|  |  |\n",
       "|  |  `- Right (One [All y, All x] [(y, x)] Tau Null)\n",
       "|  |\n",
       "|  `- Right (One [All y, All x] [] Tau Null)\n",
       "|\n",
       "+- Left (One [All y, All x] [] Tau Null)\n",
       "|  |\n",
       "|  `- Right (One [All y, All x] [] Tau Null)\n",
       "|\n",
       "`- Left (One [All y, All x] [] Tau (TauP Null))\n",
       "   |\n",
       "   +- Left (One [All y, All x] [] Tau Null)\n",
       "   |  |\n",
       "   |  `- Right (One [All y, All x] [] Tau Null)\n",
       "   |\n",
       "   `- Right (One [All y, All x] [] Tau Null)\n",
       "      |\n",
       "      `- Left (One [All y, All x] [] Tau Null)"
      ]
     },
     "metadata": {},
     "output_type": "display_data"
    },
    {
     "data": {
      "text/plain": [
       "(Dia Tau (Conj[BoxMatch [(Var y, Var x)] (Dia Tau TT),\n",
       "               Box Tau (DiaMatch [(Var y, Var x)] TT)]),\n",
       " Box Tau (Disj[Box Tau FF, Dia Tau TT]))"
      ]
     },
     "metadata": {},
     "output_type": "display_data"
    }
   ],
   "source": [
    "bisim axay (taup ((x.= y) tau) .+ t_tt) t_tt\n",
    "putStrLn . showForest $ bisim' axay (taup ((x.= y) tau) .+ t_tt) t_tt\n",
    "mapM_ pp . forest2df $ bisim' axay (taup ((x.= y) tau) .+ t_tt) t_tt"
   ]
  },
  {
   "cell_type": "code",
   "execution_count": 34,
   "metadata": {},
   "outputs": [
    {
     "data": {
      "text/plain": [
       "Left (One [All y, All x] [] Tau Null)\n",
       "|\n",
       "`- Right (One [All y, All x] [] Tau (Match (Var x) (Var y) (TauP Null)))\n",
       "   |\n",
       "   `- Right (One [All y, All x] [(y, x)] Tau Null)\n",
       "\n",
       "Left (One [All y, All x] [] Tau (TauP Null))\n",
       "|\n",
       "`- Right (One [All y, All x] [] Tau (Match (Var x) (Var y) (TauP Null)))\n",
       "   |\n",
       "   +- Left (One [All y, All x] [] Tau Null)\n",
       "   |\n",
       "   `- Right (One [All y, All x] [(y, x)] Tau Null)\n",
       "      |\n",
       "      `- Left (One [All y, All x] [(y, x)] Tau Null)\n",
       "\n",
       "Right (One [All y, All x] [] Tau (Match (Var x) (Var y) (TauP Null)))\n",
       "|\n",
       "+- Left (One [All y, All x] [] Tau Null)\n",
       "|  |\n",
       "|  `- Right (One [All y, All x] [(y, x)] Tau Null)\n",
       "|\n",
       "`- Left (One [All y, All x] [] Tau (TauP Null))\n",
       "   |\n",
       "   +- Left (One [All y, All x] [] Tau Null)\n",
       "   |\n",
       "   `- Right (One [All y, All x] [(y, x)] Tau Null)\n",
       "      |\n",
       "      `- Left (One [All y, All x] [(y, x)] Tau Null)"
      ]
     },
     "metadata": {},
     "output_type": "display_data"
    },
    {
     "data": {
      "text/plain": [
       "(Dia Tau (Box Tau FF),\n",
       " Box Tau (BoxMatch [(Var y, Var x)] (Dia Tau TT)))\n",
       "(Dia Tau (Dia Tau TT),\n",
       " Box Tau (Box Tau (DiaMatch [(Var y, Var x)] TT)))\n",
       "(Box Tau (Disj[Box Tau FF, Dia Tau TT]),\n",
       " Dia Tau (Conj[BoxMatch [(Var y, Var x)] (Dia Tau TT),\n",
       "               Box Tau (DiaMatch [(Var y, Var x)] TT)]))"
      ]
     },
     "metadata": {},
     "output_type": "display_data"
    }
   ],
   "source": [
    " putStrLn . showForest $ bisim' axay (tau .+ taup tau) (taup $ (x.= y) tau)\n",
    " mapM_ pp . forest2df $ bisim' axay (tau .+ taup tau) (taup $ (x.= y) tau)"
   ]
  },
  {
   "cell_type": "code",
   "execution_count": 35,
   "metadata": {},
   "outputs": [
    {
     "data": {
      "text/plain": [
       "Left (OneB [All x] [] (DnB (Var x)) (z.\\((TauP Null) `Plus` (TauP Null))))\n",
       "|\n",
       "`- Right (OneB [All x] [] (DnB (Var x)) (z.\\((TauP Null) `Plus` (Out (Var z) (Var x) Null))))\n",
       "   |\n",
       "   +- Left (One [All z1, All x] [] Tau Null)\n",
       "   |  |\n",
       "   |  `- Right (One [All z1, All x] [] Tau Null)\n",
       "   |\n",
       "   +- Left (One [All z1, All x] [] Tau Null)\n",
       "   |  |\n",
       "   |  `- Right (One [All z1, All x] [] Tau Null)\n",
       "   |\n",
       "   +- Right (One [All z1, All x] [] Tau Null)\n",
       "   |  |\n",
       "   |  +- Left (One [All z1, All x] [] Tau Null)\n",
       "   |  |\n",
       "   |  `- Left (One [All z1, All x] [] Tau Null)\n",
       "   |\n",
       "   `- Right (One [All z1, All x] [] (Up (Var z1) (Var x)) Null)\n",
       "\n",
       "Right (OneB [All x] [] (DnB (Var x)) (z.\\((TauP Null) `Plus` (Out (Var z) (Var x) Null))))\n",
       "|\n",
       "`- Left (OneB [All x] [] (DnB (Var x)) (z.\\((TauP Null) `Plus` (TauP Null))))\n",
       "   |\n",
       "   +- Left (One [All z1, All x] [] Tau Null)\n",
       "   |  |\n",
       "   |  `- Right (One [All z1, All x] [] Tau Null)\n",
       "   |\n",
       "   +- Left (One [All z1, All x] [] Tau Null)\n",
       "   |  |\n",
       "   |  `- Right (One [All z1, All x] [] Tau Null)\n",
       "   |\n",
       "   +- Right (One [All z1, All x] [] Tau Null)\n",
       "   |  |\n",
       "   |  +- Left (One [All z1, All x] [] Tau Null)\n",
       "   |  |\n",
       "   |  `- Left (One [All z1, All x] [] Tau Null)\n",
       "   |\n",
       "   `- Right (One [All z1, All x] [] (Up (Var z1) (Var x)) Null)"
      ]
     },
     "metadata": {},
     "output_type": "display_data"
    },
    {
     "data": {
      "text/plain": [
       "(DiaB (DnB (Var x)) (z.\\(Box (Up (Var z) (Var x)) FF)),\n",
       " BoxB (DnB (Var x)) (z.\\(Dia (Up (Var z) (Var x)) TT)))\n",
       "(BoxB (DnB (Var x)) (z.\\(Box (Up (Var z) (Var x)) FF)),\n",
       " DiaB (DnB (Var x)) (z.\\(Dia (Up (Var z) (Var x)) TT)))"
      ]
     },
     "metadata": {},
     "output_type": "display_data"
    }
   ],
   "source": [
    "putStrLn . showForest $ bisim' [All x] (inp x$z.\\tau .+ tau) (inp x$z.\\tau .+ out z x o)\n",
    "mapM_ pp . forest2df $ bisim' [All x] (inp x$z.\\tau .+ tau) (inp x$z.\\tau .+ out z x o)"
   ]
  },
  {
   "cell_type": "code",
   "execution_count": 36,
   "metadata": {},
   "outputs": [
    {
     "data": {
      "text/plain": [
       "Left (One [All w, All z, All y, All x] [(w, z)] Tau Null)\n",
       "\n",
       "Right (One [All w, All z, All y, All x] [(y, x)] Tau Null)"
      ]
     },
     "metadata": {},
     "output_type": "display_data"
    },
    {
     "data": {
      "text/plain": [
       "(BoxMatch [(Var w, Var z)] (Dia Tau TT),\n",
       " Box Tau (DiaMatch [(Var y, Var x)] TT))\n",
       "(Box Tau (DiaMatch [(Var w, Var z)] TT),\n",
       " BoxMatch [(Var y, Var x)] (Dia Tau TT))"
      ]
     },
     "metadata": {},
     "output_type": "display_data"
    }
   ],
   "source": [
    "putStrLn . showForest $ bisim' axayazaw ((z.= w) tau) ((x.= y) tau)\n",
    "mapM_ pp . forest2df $ bisim' axayazaw ((z.= w) tau) ((x.= y) tau)"
   ]
  },
  {
   "cell_type": "code",
   "execution_count": 37,
   "metadata": {},
   "outputs": [
    {
     "data": {
      "text/plain": [
       "False"
      ]
     },
     "metadata": {},
     "output_type": "display_data"
    },
    {
     "data": {
      "text/plain": [
       "Left (One [All x, All y, All a, All b] [] Tau ((Out (Var a) (Var a) Null) `Plus` (Out (Var b) (Var b) Null)))\n",
       "|\n",
       "+- Right (One [All x, All y, All a, All b] [] Tau ((Out (Var a) (Var a) Null) `Plus` (Out (Var b) (Var b) Null)))\n",
       "|  |\n",
       "|  +- Left (One [All x, All y, All a, All b] [] (Up (Var a) (Var a)) Null)\n",
       "|  |  |\n",
       "|  |  `- Right (One [All x, All y, All a, All b] [] (Up (Var a) (Var a)) Null)\n",
       "|  |\n",
       "|  +- Left (One [All x, All y, All a, All b] [] (Up (Var b) (Var b)) Null)\n",
       "|  |  |\n",
       "|  |  `- Right (One [All x, All y, All a, All b] [] (Up (Var b) (Var b)) Null)\n",
       "|  |\n",
       "|  +- Right (One [All x, All y, All a, All b] [] (Up (Var a) (Var a)) Null)\n",
       "|  |  |\n",
       "|  |  `- Left (One [All x, All y, All a, All b] [] (Up (Var a) (Var a)) Null)\n",
       "|  |\n",
       "|  `- Right (One [All x, All y, All a, All b] [] (Up (Var b) (Var b)) Null)\n",
       "|     |\n",
       "|     `- Left (One [All x, All y, All a, All b] [] (Up (Var b) (Var b)) Null)\n",
       "|\n",
       "`- Right (One [All x, All y, All a, All b] [] Tau (Out (Var a) (Var a) Null))\n",
       "   |\n",
       "   +- Left (One [All x, All y, All a, All b] [] (Up (Var a) (Var a)) Null)\n",
       "   |  |\n",
       "   |  `- Right (One [All x, All y, All a, All b] [] (Up (Var a) (Var a)) Null)\n",
       "   |\n",
       "   +- Left (One [All x, All y, All a, All b] [] (Up (Var b) (Var b)) Null)\n",
       "   |\n",
       "   `- Right (One [All x, All y, All a, All b] [] (Up (Var a) (Var a)) Null)\n",
       "      |\n",
       "      `- Left (One [All x, All y, All a, All b] [] (Up (Var a) (Var a)) Null)\n",
       "\n",
       "Left (One [All x, All y, All a, All b] [(x, y)] Tau (Out (Var a) (Var a) Null))\n",
       "|\n",
       "+- Right (One [All x, All y, All a, All b] [(x, y)] Tau ((Out (Var a) (Var a) Null) `Plus` (Out (Var b) (Var b) Null)))\n",
       "|  |\n",
       "|  +- Left (One [All x, All y, All a, All b] [] (Up (Var a) (Var a)) Null)\n",
       "|  |  |\n",
       "|  |  `- Right (One [All x, All y, All a, All b] [] (Up (Var a) (Var a)) Null)\n",
       "|  |\n",
       "|  +- Right (One [All x, All y, All a, All b] [] (Up (Var a) (Var a)) Null)\n",
       "|  |  |\n",
       "|  |  `- Left (One [All x, All y, All a, All b] [] (Up (Var a) (Var a)) Null)\n",
       "|  |\n",
       "|  `- Right (One [All x, All y, All a, All b] [] (Up (Var b) (Var b)) Null)\n",
       "|\n",
       "`- Right (One [All x, All y, All a, All b] [(x, y)] Tau (Out (Var a) (Var a) Null))\n",
       "   |\n",
       "   +- Left (One [All x, All y, All a, All b] [] (Up (Var a) (Var a)) Null)\n",
       "   |  |\n",
       "   |  `- Right (One [All x, All y, All a, All b] [] (Up (Var a) (Var a)) Null)\n",
       "   |\n",
       "   `- Right (One [All x, All y, All a, All b] [] (Up (Var a) (Var a)) Null)\n",
       "      |\n",
       "      `- Left (One [All x, All y, All a, All b] [] (Up (Var a) (Var a)) Null)\n",
       "\n",
       "Right (One [All x, All y, All a, All b] [] Tau ((Out (Var a) (Var a) Null) `Plus` (Out (Var b) (Var b) Null)))\n",
       "|\n",
       "`- Left (One [All x, All y, All a, All b] [] Tau ((Out (Var a) (Var a) Null) `Plus` (Out (Var b) (Var b) Null)))\n",
       "   |\n",
       "   +- Left (One [All x, All y, All a, All b] [] (Up (Var a) (Var a)) Null)\n",
       "   |  |\n",
       "   |  `- Right (One [All x, All y, All a, All b] [] (Up (Var a) (Var a)) Null)\n",
       "   |\n",
       "   +- Left (One [All x, All y, All a, All b] [] (Up (Var b) (Var b)) Null)\n",
       "   |  |\n",
       "   |  `- Right (One [All x, All y, All a, All b] [] (Up (Var b) (Var b)) Null)\n",
       "   |\n",
       "   +- Right (One [All x, All y, All a, All b] [] (Up (Var a) (Var a)) Null)\n",
       "   |  |\n",
       "   |  `- Left (One [All x, All y, All a, All b] [] (Up (Var a) (Var a)) Null)\n",
       "   |\n",
       "   `- Right (One [All x, All y, All a, All b] [] (Up (Var b) (Var b)) Null)\n",
       "      |\n",
       "      `- Left (One [All x, All y, All a, All b] [] (Up (Var b) (Var b)) Null)\n",
       "\n",
       "Right (One [All x, All y, All a, All b] [] Tau (Out (Var a) (Var a) Null))\n",
       "|\n",
       "`- Left (One [All x, All y, All a, All b] [] Tau ((Out (Var a) (Var a) Null) `Plus` (Out (Var b) (Var b) Null)))\n",
       "   |\n",
       "   +- Left (One [All x, All y, All a, All b] [] (Up (Var a) (Var a)) Null)\n",
       "   |  |\n",
       "   |  `- Right (One [All x, All y, All a, All b] [] (Up (Var a) (Var a)) Null)\n",
       "   |\n",
       "   +- Left (One [All x, All y, All a, All b] [] (Up (Var b) (Var b)) Null)\n",
       "   |\n",
       "   `- Right (One [All x, All y, All a, All b] [] (Up (Var a) (Var a)) Null)\n",
       "      |\n",
       "      `- Left (One [All x, All y, All a, All b] [] (Up (Var a) (Var a)) Null)"
      ]
     },
     "metadata": {},
     "output_type": "display_data"
    },
    {
     "data": {
      "text/plain": [
       "(Box Tau (Disj[DiaMatch [(Var x, Var y)] TT,\n",
       "               Dia (Up (Var b) (Var b)) TT]),\n",
       " Dia Tau (Box (Up (Var b) (Var b)) FF))"
      ]
     },
     "metadata": {},
     "output_type": "display_data"
    }
   ],
   "source": [
    "bisim axayaaab ppp1 qqq1\n",
    "putStrLn . showForest $ bisim' axayaaab ppp1 qqq1\n",
    "mapM_ pp . forest2df $ bisim' axayaaab ppp1 qqq1"
   ]
  },
  {
   "cell_type": "code",
   "execution_count": 38,
   "metadata": {},
   "outputs": [
    {
     "data": {
      "text/plain": [
       "False"
      ]
     },
     "metadata": {},
     "output_type": "display_data"
    },
    {
     "data": {
      "text/plain": [
       "Left (OneB [All a] [] (UpB (Var a)) (x.\\(In (Var a) (y.\\(TauP Null)))))\n",
       "|\n",
       "`- Right (OneB [All a] [] (UpB (Var a)) (x.\\(In (Var a) (y.\\(Match (Var x) (Var y) (TauP Null))))))\n",
       "   |\n",
       "   +- Left (OneB [Nab x1, All a] [] (DnB (Var a)) (y.\\(TauP Null)))\n",
       "   |  |\n",
       "   |  `- Right (OneB [Nab x1, All a] [] (DnB (Var a)) (y.\\(Match (Var x1) (Var y) (TauP Null))))\n",
       "   |     |\n",
       "   |     +- Left (One [All y2, Nab x1, All a] [] Tau Null)\n",
       "   |     |\n",
       "   |     `- Right (One [All y2, Nab x1, All a] [(x1, a)] Tau Null)\n",
       "   |        |\n",
       "   |        `- Left (One [All y2, Nab x1, All a] [(x1, a)] Tau Null)\n",
       "   |\n",
       "   `- Right (OneB [Nab x1, All a] [] (DnB (Var a)) (y.\\(Match (Var x1) (Var y) (TauP Null))))\n",
       "      |\n",
       "      `- Left (OneB [Nab x1, All a] [] (DnB (Var a)) (y.\\(TauP Null)))\n",
       "         |\n",
       "         +- Left (One [All y2, Nab x1, All a] [] Tau Null)\n",
       "         |\n",
       "         `- Right (One [All y2, Nab x1, All a] [(x1, a)] Tau Null)\n",
       "            |\n",
       "            `- Left (One [All y2, Nab x1, All a] [(x1, a)] Tau Null)\n",
       "\n",
       "Right (OneB [All a] [] (UpB (Var a)) (x.\\(In (Var a) (y.\\(Match (Var x) (Var y) (TauP Null))))))\n",
       "|\n",
       "`- Left (OneB [All a] [] (UpB (Var a)) (x.\\(In (Var a) (y.\\(TauP Null)))))\n",
       "   |\n",
       "   +- Left (OneB [Nab x1, All a] [] (DnB (Var a)) (y.\\(TauP Null)))\n",
       "   |  |\n",
       "   |  `- Right (OneB [Nab x1, All a] [] (DnB (Var a)) (y.\\(Match (Var x1) (Var y) (TauP Null))))\n",
       "   |     |\n",
       "   |     +- Left (One [All y2, Nab x1, All a] [] Tau Null)\n",
       "   |     |\n",
       "   |     `- Right (One [All y2, Nab x1, All a] [(x1, a)] Tau Null)\n",
       "   |        |\n",
       "   |        `- Left (One [All y2, Nab x1, All a] [(x1, a)] Tau Null)\n",
       "   |\n",
       "   `- Right (OneB [Nab x1, All a] [] (DnB (Var a)) (y.\\(Match (Var x1) (Var y) (TauP Null))))\n",
       "      |\n",
       "      `- Left (OneB [Nab x1, All a] [] (DnB (Var a)) (y.\\(TauP Null)))\n",
       "         |\n",
       "         +- Left (One [All y2, Nab x1, All a] [] Tau Null)\n",
       "         |\n",
       "         `- Right (One [All y2, Nab x1, All a] [(x1, a)] Tau Null)\n",
       "            |\n",
       "            `- Left (One [All y2, Nab x1, All a] [(x1, a)] Tau Null)"
      ]
     },
     "metadata": {},
     "output_type": "display_data"
    },
    {
     "data": {
      "text/plain": [
       "(DiaB (UpB (Var a)) (x.\\(DiaB (DnB (Var a)) (y.\\(Dia Tau TT)))),\n",
       " BoxB (UpB (Var a)) (x.\\(BoxB (DnB (Var a)) (y.\\(Box Tau (DiaMatch [(Var x,\n",
       "                                                                     Var a)] TT))))))\n",
       "(DiaB (UpB (Var a)) (x.\\(BoxB (DnB (Var a)) (y.\\(Dia Tau TT)))),\n",
       " BoxB (UpB (Var a)) (x.\\(DiaB (DnB (Var a)) (y.\\(Box Tau (DiaMatch [(Var x,\n",
       "                                                                     Var a)] TT))))))\n",
       "(BoxB (UpB (Var a)) (x.\\(DiaB (DnB (Var a)) (y.\\(Dia Tau TT)))),\n",
       " DiaB (UpB (Var a)) (x.\\(BoxB (DnB (Var a)) (y.\\(Box Tau (DiaMatch [(Var x,\n",
       "                                                                     Var a)] TT))))))\n",
       "(BoxB (UpB (Var a)) (x.\\(BoxB (DnB (Var a)) (y.\\(Dia Tau TT)))),\n",
       " DiaB (UpB (Var a)) (x.\\(DiaB (DnB (Var a)) (y.\\(Box Tau (DiaMatch [(Var x,\n",
       "                                                                     Var a)] TT))))))"
      ]
     },
     "metadata": {},
     "output_type": "display_data"
    }
   ],
   "source": [
    "bisim [All a] ppp2 qqq2\n",
    "putStrLn . showForest $ bisim' [All a] ppp2 qqq2\n",
    "mapM_ pp . forest2df $ bisim' [All a] ppp2 qqq2"
   ]
  },
  {
   "cell_type": "code",
   "execution_count": 39,
   "metadata": {},
   "outputs": [
    {
     "data": {
      "text/plain": [
       "[]"
      ]
     },
     "metadata": {},
     "output_type": "display_data"
    },
    {
     "data": {
      "text/plain": [
       "[x.\\Null]"
      ]
     },
     "metadata": {},
     "output_type": "display_data"
    },
    {
     "data": {
      "text/plain": [
       "[]"
      ]
     },
     "metadata": {},
     "output_type": "display_data"
    },
    {
     "data": {
      "text/plain": [
       "[]"
      ]
     },
     "metadata": {},
     "output_type": "display_data"
    }
   ],
   "source": [
    "pp (runFreshMT dosomething2 :: [PrB])\n",
    "pp (runFreshMT dosomething3 :: [PrB])\n",
    "pp (runFreshMT dosomething4 :: [Pr])\n",
    "pp (runFreshMT dosomething5 :: [PrB])"
   ]
  },
  {
   "cell_type": "code",
   "execution_count": 40,
   "metadata": {},
   "outputs": [
    {
     "data": {
      "text/plain": [
       "False"
      ]
     },
     "metadata": {},
     "output_type": "display_data"
    },
    {
     "data": {
      "text/plain": [
       "Left (One [All y, All x] [(y, x)] Tau (TauP Null))\n",
       "|\n",
       "+- Right (One [All y, All x] [(y, x)] Tau (TauP Null))\n",
       "|  |\n",
       "|  +- Left (One [All y, All x] [] Tau Null)\n",
       "|  |  |\n",
       "|  |  `- Right (One [All y, All x] [] Tau Null)\n",
       "|  |\n",
       "|  `- Right (One [All y, All x] [] Tau Null)\n",
       "|     |\n",
       "|     `- Left (One [All y, All x] [] Tau Null)\n",
       "|\n",
       "`- Right (One [All y, All x] [(y, x)] Tau Null)\n",
       "   |\n",
       "   `- Left (One [All y, All x] [] Tau Null)\n",
       "\n",
       "Left (One [All y, All x] [] Tau Null)\n",
       "|\n",
       "+- Right (One [All y, All x] [] Tau (TauP Null))\n",
       "|  |\n",
       "|  `- Right (One [All y, All x] [] Tau Null)\n",
       "|\n",
       "`- Right (One [All y, All x] [] Tau Null)\n",
       "\n",
       "Right (One [All y, All x] [] Tau (TauP Null))\n",
       "|\n",
       "`- Left (One [All y, All x] [] Tau Null)\n",
       "   |\n",
       "   `- Right (One [All y, All x] [] Tau Null)\n",
       "\n",
       "Right (One [All y, All x] [] Tau Null)\n",
       "|\n",
       "`- Left (One [All y, All x] [] Tau Null)"
      ]
     },
     "metadata": {},
     "output_type": "display_data"
    },
    {
     "data": {
      "text/plain": [
       "(Box Tau (Disj[DiaMatch [(Var y, Var x)] TT, Box Tau FF]),\n",
       " Dia Tau (Dia Tau TT))"
      ]
     },
     "metadata": {},
     "output_type": "display_data"
    }
   ],
   "source": [
    "bisim axay ((x.= y) (taup tau) .+ tau) (taup tau .+ tau)\n",
    "putStrLn . showForest $ bisim' axay ((x.= y) (taup tau) .+ tau) (taup tau .+ tau)\n",
    "mapM_ pp . forest2df $ bisim' axay ((x.= y) (taup tau) .+ tau) (taup tau .+ tau)"
   ]
  },
  {
   "cell_type": "code",
   "execution_count": 41,
   "metadata": {},
   "outputs": [
    {
     "data": {
      "text/plain": [
       "False"
      ]
     },
     "metadata": {},
     "output_type": "display_data"
    },
    {
     "data": {
      "text/plain": [
       "Left (One [All y, All x] [] Tau (TauP Null))\n",
       "|\n",
       "`- Right (One [All y, All x] [] Tau Null)\n",
       "   |\n",
       "   `- Left (One [All y, All x] [] Tau Null)\n",
       "\n",
       "Left (One [All y, All x] [] Tau Null)\n",
       "|\n",
       "`- Right (One [All y, All x] [] Tau Null)\n",
       "\n",
       "Right (One [All y, All x] [(y, x)] Tau (TauP Null))\n",
       "|\n",
       "+- Left (One [All y, All x] [(y, x)] Tau (TauP Null))\n",
       "|  |\n",
       "|  +- Left (One [All y, All x] [] Tau Null)\n",
       "|  |  |\n",
       "|  |  `- Right (One [All y, All x] [] Tau Null)\n",
       "|  |\n",
       "|  `- Right (One [All y, All x] [] Tau Null)\n",
       "|     |\n",
       "|     `- Left (One [All y, All x] [] Tau Null)\n",
       "|\n",
       "`- Left (One [All y, All x] [(y, x)] Tau Null)\n",
       "   |\n",
       "   `- Right (One [All y, All x] [] Tau Null)\n",
       "\n",
       "Right (One [All y, All x] [] Tau Null)\n",
       "|\n",
       "+- Left (One [All y, All x] [] Tau (TauP Null))\n",
       "|  |\n",
       "|  `- Left (One [All y, All x] [] Tau Null)\n",
       "|\n",
       "`- Left (One [All y, All x] [] Tau Null)"
      ]
     },
     "metadata": {},
     "output_type": "display_data"
    },
    {
     "data": {
      "text/plain": [
       "(Dia Tau (Dia Tau TT),\n",
       " Box Tau (Disj[DiaMatch [(Var y, Var x)] TT, Box Tau FF]))"
      ]
     },
     "metadata": {},
     "output_type": "display_data"
    }
   ],
   "source": [
    "bisim axay (taup tau .+ tau) ((x.= y) (taup tau) .+ tau)\n",
    "putStrLn . showForest $ bisim' axay (taup tau .+ tau) ((x.= y) (taup tau) .+ tau)\n",
    "mapM_ pp . forest2df $ bisim' axay (taup tau .+ tau) ((x.= y) (taup tau) .+ tau)"
   ]
  },
  {
   "cell_type": "code",
   "execution_count": 42,
   "metadata": {},
   "outputs": [
    {
     "data": {
      "text/plain": [
       "False"
      ]
     },
     "metadata": {},
     "output_type": "display_data"
    },
    {
     "data": {
      "text/plain": [
       "Left (OneB [All a] [] (UpB (Var a)) (b.\\(In (Var a) (x.\\(Match (Var x) (Var b) (Out (Var x) (Var x) Null))))))\n",
       "|\n",
       "`- Right (OneB [All a] [] (UpB (Var a)) (b.\\(In (Var a) (x.\\(Out (Var x) (Var x) Null)))))\n",
       "   |\n",
       "   +- Left (OneB [Nab b1, All a] [] (DnB (Var a)) (x.\\(Match (Var x) (Var b1) (Out (Var x) (Var x) Null))))\n",
       "   |  |\n",
       "   |  `- Right (OneB [Nab b1, All a] [] (DnB (Var a)) (x.\\(Out (Var x) (Var x) Null)))\n",
       "   |     |\n",
       "   |     +- Left (One [All x2, Nab b1, All a] [(b1, a)] (Up (Var x2) (Var x2)) Null)\n",
       "   |     |  |\n",
       "   |     |  `- Right (One [All x2, Nab b1, All a] [(b1, a)] (Up (Var x2) (Var x2)) Null)\n",
       "   |     |\n",
       "   |     `- Right (One [All x2, Nab b1, All a] [] (Up (Var x2) (Var x2)) Null)\n",
       "   |\n",
       "   `- Right (OneB [Nab b1, All a] [] (DnB (Var a)) (x.\\(Out (Var x) (Var x) Null)))\n",
       "      |\n",
       "      `- Left (OneB [Nab b1, All a] [] (DnB (Var a)) (x.\\(Match (Var x) (Var b1) (Out (Var x) (Var x) Null))))\n",
       "         |\n",
       "         +- Left (One [All x2, Nab b1, All a] [(b1, a)] (Up (Var x2) (Var x2)) Null)\n",
       "         |  |\n",
       "         |  `- Right (One [All x2, Nab b1, All a] [(b1, a)] (Up (Var x2) (Var x2)) Null)\n",
       "         |\n",
       "         `- Right (One [All x2, Nab b1, All a] [] (Up (Var x2) (Var x2)) Null)\n",
       "\n",
       "Right (OneB [All a] [] (UpB (Var a)) (b.\\(In (Var a) (x.\\(Out (Var x) (Var x) Null)))))\n",
       "|\n",
       "`- Left (OneB [All a] [] (UpB (Var a)) (b.\\(In (Var a) (x.\\(Match (Var x) (Var b) (Out (Var x) (Var x) Null))))))\n",
       "   |\n",
       "   +- Left (OneB [Nab b1, All a] [] (DnB (Var a)) (x.\\(Match (Var x) (Var b1) (Out (Var x) (Var x) Null))))\n",
       "   |  |\n",
       "   |  `- Right (OneB [Nab b1, All a] [] (DnB (Var a)) (x.\\(Out (Var x) (Var x) Null)))\n",
       "   |     |\n",
       "   |     +- Left (One [All x2, Nab b1, All a] [(b1, a)] (Up (Var x2) (Var x2)) Null)\n",
       "   |     |  |\n",
       "   |     |  `- Right (One [All x2, Nab b1, All a] [(b1, a)] (Up (Var x2) (Var x2)) Null)\n",
       "   |     |\n",
       "   |     `- Right (One [All x2, Nab b1, All a] [] (Up (Var x2) (Var x2)) Null)\n",
       "   |\n",
       "   `- Right (OneB [Nab b1, All a] [] (DnB (Var a)) (x.\\(Out (Var x) (Var x) Null)))\n",
       "      |\n",
       "      `- Left (OneB [Nab b1, All a] [] (DnB (Var a)) (x.\\(Match (Var x) (Var b1) (Out (Var x) (Var x) Null))))\n",
       "         |\n",
       "         +- Left (One [All x2, Nab b1, All a] [(b1, a)] (Up (Var x2) (Var x2)) Null)\n",
       "         |  |\n",
       "         |  `- Right (One [All x2, Nab b1, All a] [(b1, a)] (Up (Var x2) (Var x2)) Null)\n",
       "         |\n",
       "         `- Right (One [All x2, Nab b1, All a] [] (Up (Var x2) (Var x2)) Null)"
      ]
     },
     "metadata": {},
     "output_type": "display_data"
    },
    {
     "data": {
      "text/plain": [
       "(DiaB (UpB (Var a)) (b.\\(DiaB (DnB (Var a)) (x.\\(Box (Up (Var x) (Var x)) (DiaMatch [(Var b,\n",
       "                                                                                      Var a)] TT))))),\n",
       " BoxB (UpB (Var a)) (b.\\(BoxB (DnB (Var a)) (x.\\(Dia (Up (Var x) (Var x)) TT)))))\n",
       "(DiaB (UpB (Var a)) (b.\\(BoxB (DnB (Var a)) (x.\\(Box (Up (Var x) (Var x)) (DiaMatch [(Var b,\n",
       "                                                                                      Var a)] TT))))),\n",
       " BoxB (UpB (Var a)) (b.\\(DiaB (DnB (Var a)) (x.\\(Dia (Up (Var x) (Var x)) TT)))))\n",
       "(BoxB (UpB (Var a)) (b.\\(DiaB (DnB (Var a)) (x.\\(Box (Up (Var x) (Var x)) (DiaMatch [(Var b,\n",
       "                                                                                      Var a)] TT))))),\n",
       " DiaB (UpB (Var a)) (b.\\(BoxB (DnB (Var a)) (x.\\(Dia (Up (Var x) (Var x)) TT)))))\n",
       "(BoxB (UpB (Var a)) (b.\\(BoxB (DnB (Var a)) (x.\\(Box (Up (Var x) (Var x)) (DiaMatch [(Var b,\n",
       "                                                                                      Var a)] TT))))),\n",
       " DiaB (UpB (Var a)) (b.\\(DiaB (DnB (Var a)) (x.\\(Dia (Up (Var x) (Var x)) TT)))))"
      ]
     },
     "metadata": {},
     "output_type": "display_data"
    }
   ],
   "source": [
    "bisim [All a] (Nu$b.\\out a b (inp a $x.\\(x.= b) (out x x o))) (Nu$b.\\out a b (inp a $x.\\out x x o))\n",
    "putStrLn . showForest $ bisim' [All a] (Nu$b.\\out a b (inp a $x.\\(x.= b) (out x x o))) (Nu$b.\\out a b (inp a $x.\\out x x o))\n",
    "mapM_ pp . forest2df $ bisim' [All a] (Nu$b.\\out a b (inp a $x.\\(x.= b) (out x x o))) (Nu$b.\\out a b (inp a $x.\\out x x o))"
   ]
  },
  {
   "cell_type": "markdown",
   "metadata": {},
   "source": [
    "# some quick things TODO\n",
    "exploit the HTML environment"
   ]
  },
  {
   "cell_type": "markdown",
   "metadata": {},
   "source": [
    "#### Write pretty print to LaTeX format and let it be displayed using HTML + MathJAX.\n",
    " "
   ]
  },
  {
   "cell_type": "code",
   "execution_count": 43,
   "metadata": {},
   "outputs": [
    {
     "data": {
      "text/plain": [
       "Plus (TauP Null) (TauP (TauP Null))"
      ]
     },
     "metadata": {},
     "output_type": "display_data"
    }
   ],
   "source": [
    "p1  -- for example, instead of output below"
   ]
  },
  {
   "cell_type": "code",
   "execution_count": 44,
   "metadata": {},
   "outputs": [
    {
     "data": {
      "text/html": [
       "<style>/* Styles used for the Hoogle display in the pager */\n",
       ".hoogle-doc {\n",
       "display: block;\n",
       "padding-bottom: 1.3em;\n",
       "padding-left: 0.4em;\n",
       "}\n",
       ".hoogle-code {\n",
       "display: block;\n",
       "font-family: monospace;\n",
       "white-space: pre;\n",
       "}\n",
       ".hoogle-text {\n",
       "display: block;\n",
       "}\n",
       ".hoogle-name {\n",
       "color: green;\n",
       "font-weight: bold;\n",
       "}\n",
       ".hoogle-head {\n",
       "font-weight: bold;\n",
       "}\n",
       ".hoogle-sub {\n",
       "display: block;\n",
       "margin-left: 0.4em;\n",
       "}\n",
       ".hoogle-package {\n",
       "font-weight: bold;\n",
       "font-style: italic;\n",
       "}\n",
       ".hoogle-module {\n",
       "font-weight: bold;\n",
       "}\n",
       ".hoogle-class {\n",
       "font-weight: bold;\n",
       "}\n",
       ".get-type {\n",
       "color: green;\n",
       "font-weight: bold;\n",
       "font-family: monospace;\n",
       "display: block;\n",
       "white-space: pre-wrap;\n",
       "}\n",
       ".show-type {\n",
       "color: green;\n",
       "font-weight: bold;\n",
       "font-family: monospace;\n",
       "margin-left: 1em;\n",
       "}\n",
       ".mono {\n",
       "font-family: monospace;\n",
       "display: block;\n",
       "}\n",
       ".err-msg {\n",
       "color: red;\n",
       "font-style: italic;\n",
       "font-family: monospace;\n",
       "white-space: pre;\n",
       "display: block;\n",
       "}\n",
       "#unshowable {\n",
       "color: red;\n",
       "font-weight: bold;\n",
       "}\n",
       ".err-msg.in.collapse {\n",
       "padding-top: 0.7em;\n",
       "}\n",
       ".highlight-code {\n",
       "white-space: pre;\n",
       "font-family: monospace;\n",
       "}\n",
       ".suggestion-warning { \n",
       "font-weight: bold;\n",
       "color: rgb(200, 130, 0);\n",
       "}\n",
       ".suggestion-error { \n",
       "font-weight: bold;\n",
       "color: red;\n",
       "}\n",
       ".suggestion-name {\n",
       "font-weight: bold;\n",
       "}\n",
       "</style>$\\tau.0 + \\tau.\\tau.0$"
      ]
     },
     "metadata": {},
     "output_type": "display_data"
    }
   ],
   "source": [
    "-- generate something like this from p1, and also for processes \n",
    "import IHaskell.Display\n",
    "html \"$\\\\tau.0 + \\\\tau.\\\\tau.0$\""
   ]
  },
  {
   "cell_type": "markdown",
   "metadata": {},
   "source": [
    "#### ditto on Tree view\n",
    "A there is a library for Data.Tree to html output"
   ]
  },
  {
   "cell_type": "markdown",
   "metadata": {},
   "source": [
    "# some not so quick things TODO\n",
    "\n",
    " 1. refactoring to reduce code ducplications\n",
    " 1. manage inequality feature and other notions of bisimulation (early,quasiopen) seamlessy with a single codebase\n",
    "\n",
    "these should be useful (almost necessary) thing to do if we want to work on an algorithm\n",
    "that adapts from failure of open bisim to see whether quasi-open is acheivable from there.\n",
    "\n",
    "And, there are also explorations on how to suppport additional features/variants of pi-calculus: applied-pi style terms, replication, etc"
   ]
  },
  {
   "cell_type": "code",
   "execution_count": null,
   "metadata": {},
   "outputs": [],
   "source": []
  }
 ],
 "metadata": {
  "kernelspec": {
   "display_name": "Haskell",
   "language": "haskell",
   "name": "haskell"
  },
  "language_info": {
   "codemirror_mode": "ihaskell",
   "file_extension": ".hs",
   "name": "haskell",
   "pygments_lexer": "Haskell",
   "version": "8.6.5"
  }
 },
 "nbformat": 4,
 "nbformat_minor": 2
}
